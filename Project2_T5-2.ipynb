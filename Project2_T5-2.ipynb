{
  "nbformat": 4,
  "nbformat_minor": 0,
  "metadata": {
    "colab": {
      "name": "Project2_T5.ipynb",
      "provenance": [],
      "collapsed_sections": [
        "Uo-hVODsOZvj"
      ]
    },
    "kernelspec": {
      "display_name": "Python 3",
      "language": "python",
      "name": "python3"
    },
    "language_info": {
      "codemirror_mode": {
        "name": "ipython",
        "version": 3
      },
      "file_extension": ".py",
      "mimetype": "text/x-python",
      "name": "python",
      "nbconvert_exporter": "python",
      "pygments_lexer": "ipython3",
      "version": "3.8.3"
    }
  },
  "cells": [
    {
      "cell_type": "markdown",
      "metadata": {
        "id": "Uo-hVODsOZvj"
      },
      "source": [
        "# **Predicting car price using linear regression**\n",
        "\n",
        "\n"
      ]
    },
    {
      "cell_type": "markdown",
      "metadata": {
        "id": "Tf5T1v9ROmym"
      },
      "source": [
        "# **Import packages**"
      ]
    },
    {
      "cell_type": "code",
      "metadata": {
        "id": "0jIHIdoumn6S"
      },
      "source": [
        "from bs4 import BeautifulSoup as bs\n",
        "import requests\n",
        "import numpy as np\n",
        "import pandas as pd \n",
        "import matplotlib.pyplot as plt\n",
        "%matplotlib inline\n",
        "import seaborn as sns\n",
        "from sklearn.preprocessing import (scale, StandardScaler)\n",
        "from sklearn import linear_model\n",
        "from sklearn.linear_model import (LinearRegression, Lasso, Ridge)\n",
        "import statsmodels.api as sm\n",
        "import scipy.stats as stats\n",
        "from sklearn.model_selection import (cross_val_score, train_test_split, \n",
        "                                     KFold, GridSearchCV)\n",
        "from sklearn.metrics import (mean_squared_error, r2_score)\n",
        "import sklearn.metrics as metrics\n",
        "from statsmodels.stats import diagnostic as diag\n",
        "from google.colab import files"
      ],
      "execution_count": null,
      "outputs": []
    },
    {
      "cell_type": "markdown",
      "metadata": {
        "id": "3EJ08xXEO93-"
      },
      "source": [
        "# **Data scraping**"
      ]
    },
    {
      "cell_type": "markdown",
      "metadata": {
        "id": "I5GIVyxXPId_"
      },
      "source": [
        "Scraping data from cars.com website"
      ]
    },
    {
      "cell_type": "code",
      "metadata": {
        "id": "VRNbwTwKPDzM"
      },
      "source": [
        "session=requests.session()\n",
        "headers={\"User-Agent\":\"Mozilla/5.0 (X11; Linux x86_64; rv:60.0) Gecko/20100101 Firefox/60.0\",\"Accept\":\"text/html,application/xhtml+xml,application/xml;q=0.9,*/*;q=0.8\"}\n",
        "url = 'https://www.cars.com/shopping/results/?makes[]=honda&page=1&page_size=100&stock_type=used&zip=60606'\n",
        "req=requests.get(url)\n",
        "soup=bs(req.text,'html.parser')\n",
        "url2 = 'https://www.cars.com/shopping/results/?makes[]=honda&page=2&page_size=100&stock_type=used&zip=60606'\n",
        "req2=requests.get(url2)\n",
        "soup2=bs(req2.text,'html.parser')\n",
        "url3 = 'https://www.cars.com/shopping/results/?makes[]=honda&page=3&page_size=100&stock_type=used&zip=60606'\n",
        "req3=requests.get(url3)\n",
        "soup3=bs(req3.text,'html.parser')\n",
        "url4 = 'https://www.cars.com/shopping/results/?makes[]=honda&page=4&page_size=100&stock_type=used&zip=60606'\n",
        "req4=requests.get(url4)\n",
        "soup4=bs(req4.text,'html.parser')"
      ],
      "execution_count": null,
      "outputs": []
    },
    {
      "cell_type": "markdown",
      "metadata": {
        "id": "PqmdgGkWSGfO"
      },
      "source": [
        "# **Exploratory data analysis (EDA)**"
      ]
    },
    {
      "cell_type": "markdown",
      "metadata": {
        "id": "w07IEdawMirX"
      },
      "source": [
        " **Pre-Processing**"
      ]
    },
    {
      "cell_type": "code",
      "metadata": {
        "colab": {
          "base_uri": "https://localhost:8080/"
        },
        "id": "J_HP6cHemn6U",
        "outputId": "07f9aef3-aef2-4111-c96d-3f179d6e8e5a"
      },
      "source": [
        "DESCRIPTION = []\n",
        "for element in soup.find_all('a',class_='vehicle-card-link'):\n",
        "    DESCRIPTION.append(element.text.replace('\\n','').split(' ',1))\n",
        "for element in soup2.find_all('a',class_='vehicle-card-link'):\n",
        "    DESCRIPTION.append(element.text.replace('\\n','').split(' ',1))\n",
        "for element in soup3.find_all('a',class_='vehicle-card-link'):\n",
        "    DESCRIPTION.append(element.text.replace('\\n','').split(' ',1))\n",
        "for element in soup4.find_all('a',class_='vehicle-card-link'):\n",
        "    DESCRIPTION.append(element.text.replace('\\n','').split(' ',1))\n",
        "len(DESCRIPTION)"
      ],
      "execution_count": null,
      "outputs": [
        {
          "output_type": "execute_result",
          "data": {
            "text/plain": [
              "400"
            ]
          },
          "metadata": {},
          "execution_count": 405
        }
      ]
    },
    {
      "cell_type": "code",
      "metadata": {
        "colab": {
          "base_uri": "https://localhost:8080/"
        },
        "id": "hGyzG2IUmn6W",
        "outputId": "49a2e1d4-6359-4f49-c9a0-ab5c546df8bc"
      },
      "source": [
        "len(DESCRIPTION)"
      ],
      "execution_count": null,
      "outputs": [
        {
          "output_type": "execute_result",
          "data": {
            "text/plain": [
              "400"
            ]
          },
          "metadata": {},
          "execution_count": 406
        }
      ]
    },
    {
      "cell_type": "code",
      "metadata": {
        "id": "78oA7GTImn6X"
      },
      "source": [
        "DEALER = []\n",
        "for element in soup.find_all('div',class_='dealer-name'):\n",
        "    DEALER.append(element.text.replace('\\n',''))\n",
        "for element in soup2.find_all('div',class_='dealer-name'):\n",
        "    DEALER.append(element.text.replace('\\n',''))\n",
        "for element in soup3.find_all('div',class_='dealer-name'):\n",
        "    DEALER.append(element.text.replace('\\n',''))\n",
        "for element in soup4.find_all('div',class_='dealer-name'):\n",
        "    DEALER.append(element.text.replace('\\n',''))"
      ],
      "execution_count": null,
      "outputs": []
    },
    {
      "cell_type": "code",
      "metadata": {
        "colab": {
          "base_uri": "https://localhost:8080/"
        },
        "id": "Z6DezfiCmn6Y",
        "outputId": "dd6f2c2c-7a9c-4c2a-fc55-1002643600e0"
      },
      "source": [
        "len(DEALER)"
      ],
      "execution_count": null,
      "outputs": [
        {
          "output_type": "execute_result",
          "data": {
            "text/plain": [
              "400"
            ]
          },
          "metadata": {},
          "execution_count": 408
        }
      ]
    },
    {
      "cell_type": "code",
      "metadata": {
        "id": "xaEH3xTUmn6Y"
      },
      "source": [
        "MILES_DRIVEN = []\n",
        "for element in soup.find_all('div',class_='mileage'):\n",
        "    MILES_DRIVEN.append(element.text.replace('\\n','').replace(',','').replace('mi.','').strip())\n",
        "for element in soup2.find_all('div',class_='mileage'):\n",
        "    MILES_DRIVEN.append(element.text.replace('\\n','').replace(',','').replace('mi.','').strip())\n",
        "for element in soup3.find_all('div',class_='mileage'):\n",
        "    MILES_DRIVEN.append(element.text.replace('\\n','').replace(',','').replace('mi.','').strip())\n",
        "for element in soup4.find_all('div',class_='mileage'):\n",
        "    MILES_DRIVEN.append(element.text.replace('\\n','').replace(',','').replace('mi.','').strip())\n",
        "MILES_DRIVEN = list(map(float,MILES_DRIVEN))"
      ],
      "execution_count": null,
      "outputs": []
    },
    {
      "cell_type": "code",
      "metadata": {
        "colab": {
          "base_uri": "https://localhost:8080/"
        },
        "id": "GkgLbSz6mn6Y",
        "outputId": "41397028-75f9-4e7a-9c03-a2309b287fb7"
      },
      "source": [
        "len(MILES_DRIVEN)"
      ],
      "execution_count": null,
      "outputs": [
        {
          "output_type": "execute_result",
          "data": {
            "text/plain": [
              "400"
            ]
          },
          "metadata": {},
          "execution_count": 410
        }
      ]
    },
    {
      "cell_type": "code",
      "metadata": {
        "colab": {
          "base_uri": "https://localhost:8080/"
        },
        "id": "NIa8h-oomn6Z",
        "outputId": "582f661e-a510-40e2-f33b-8b7dea985d4d"
      },
      "source": [
        "type(MILES_DRIVEN[0])"
      ],
      "execution_count": null,
      "outputs": [
        {
          "output_type": "execute_result",
          "data": {
            "text/plain": [
              "float"
            ]
          },
          "metadata": {},
          "execution_count": 411
        }
      ]
    },
    {
      "cell_type": "code",
      "metadata": {
        "id": "sl1xp4Nhmn6Z"
      },
      "source": [
        "RATE = []\n",
        "for element in soup.find_all('span',class_='sds-rating__count'):\n",
        "    RATE.append(element.text.replace('\\n',''))\n",
        "for element in soup2.find_all('span',class_='sds-rating__count'):\n",
        "    RATE.append(element.text.replace('\\n',''))\n",
        "for element in soup3.find_all('span',class_='sds-rating__count'):\n",
        "    RATE.append(element.text.replace('\\n',''))\n",
        "for element in soup4.find_all('span',class_='sds-rating__count'):\n",
        "    RATE.append(element.text.replace('\\n',''))\n",
        "RATE = list(map(float,RATE))"
      ],
      "execution_count": null,
      "outputs": []
    },
    {
      "cell_type": "code",
      "metadata": {
        "colab": {
          "base_uri": "https://localhost:8080/"
        },
        "id": "QlXnN9cjorWX",
        "outputId": "4eb16d1a-0fd5-4bff-f5b1-508f70f9193a"
      },
      "source": [
        "len(RATE)"
      ],
      "execution_count": null,
      "outputs": [
        {
          "output_type": "execute_result",
          "data": {
            "text/plain": [
              "399"
            ]
          },
          "metadata": {},
          "execution_count": 413
        }
      ]
    },
    {
      "cell_type": "code",
      "metadata": {
        "colab": {
          "base_uri": "https://localhost:8080/"
        },
        "id": "GOQO4phSmn6a",
        "outputId": "4cca0b8b-1a61-4fdd-ef0a-76ae363e01d8"
      },
      "source": [
        "type(RATE[0])"
      ],
      "execution_count": null,
      "outputs": [
        {
          "output_type": "execute_result",
          "data": {
            "text/plain": [
              "float"
            ]
          },
          "metadata": {},
          "execution_count": 414
        }
      ]
    },
    {
      "cell_type": "code",
      "metadata": {
        "id": "g9taOC5Amn6b"
      },
      "source": [
        "NO_OF_REVIEWS = []\n",
        "for element in soup.find_all('span',class_='sds-rating__link sds-button-link'):\n",
        "    NO_OF_REVIEWS.append(element.text.replace('\\n','').replace('(','').replace(')','').replace('reviews','').replace('review','').replace(',','').strip())\n",
        "for element in soup2.find_all('span',class_='sds-rating__link sds-button-link'):\n",
        "    NO_OF_REVIEWS.append(element.text.replace('\\n','').replace('(','').replace(')','').replace('reviews','').replace('review','').replace(',','').strip())\n",
        "for element in soup3.find_all('span',class_='sds-rating__link sds-button-link'):\n",
        "    NO_OF_REVIEWS.append(element.text.replace('\\n','').replace('(','').replace(')','').replace('reviews','').replace('review','').replace(',','').strip())\n",
        "for element in soup4.find_all('span',class_='sds-rating__link sds-button-link'):\n",
        "    NO_OF_REVIEWS.append(element.text.replace('\\n','').replace('(','').replace(')','').replace('reviews','').replace('review','').replace(',','').strip())\n",
        "NO_OF_REVIEWS = list(map(int,NO_OF_REVIEWS))"
      ],
      "execution_count": null,
      "outputs": []
    },
    {
      "cell_type": "code",
      "metadata": {
        "colab": {
          "base_uri": "https://localhost:8080/"
        },
        "id": "ixf8KJ5Emn6b",
        "outputId": "7f94e8df-9681-4709-834b-fb78e1b3dd31"
      },
      "source": [
        "len(NO_OF_REVIEWS)"
      ],
      "execution_count": null,
      "outputs": [
        {
          "output_type": "execute_result",
          "data": {
            "text/plain": [
              "399"
            ]
          },
          "metadata": {},
          "execution_count": 416
        }
      ]
    },
    {
      "cell_type": "code",
      "metadata": {
        "colab": {
          "base_uri": "https://localhost:8080/"
        },
        "id": "Rm-hdyucmn6c",
        "outputId": "d7a86929-e0a1-4beb-b549-a862a2a34928"
      },
      "source": [
        "type(NO_OF_REVIEWS[0])"
      ],
      "execution_count": null,
      "outputs": [
        {
          "output_type": "execute_result",
          "data": {
            "text/plain": [
              "int"
            ]
          },
          "metadata": {},
          "execution_count": 417
        }
      ]
    },
    {
      "cell_type": "code",
      "metadata": {
        "id": "LtPt3z8cmn6c"
      },
      "source": [
        "PRICE = []\n",
        "for element in soup.find_all('span',class_='primary-price'):\n",
        "    PRICE.append(element.text.replace('\\n','').replace(',','').replace('$',''))\n",
        "for element in soup2.find_all('span',class_='primary-price'):\n",
        "    PRICE.append(element.text.replace('\\n','').replace(',','').replace('$',''))\n",
        "for element in soup3.find_all('span',class_='primary-price'):\n",
        "    PRICE.append(element.text.replace('\\n','').replace(',','').replace('$',''))\n",
        "for element in soup4.find_all('span',class_='primary-price'):\n",
        "    PRICE.append(element.text.replace('\\n','').replace(',','').replace('$',''))\n",
        "PRICE = list(map(float,PRICE))"
      ],
      "execution_count": null,
      "outputs": []
    },
    {
      "cell_type": "code",
      "metadata": {
        "colab": {
          "base_uri": "https://localhost:8080/"
        },
        "id": "ng6Dpiesmn6d",
        "outputId": "e16dc25b-c0f0-4558-9b03-7850a23ff20f"
      },
      "source": [
        "len(PRICE)"
      ],
      "execution_count": null,
      "outputs": [
        {
          "output_type": "execute_result",
          "data": {
            "text/plain": [
              "400"
            ]
          },
          "metadata": {},
          "execution_count": 419
        }
      ]
    },
    {
      "cell_type": "code",
      "metadata": {
        "colab": {
          "base_uri": "https://localhost:8080/"
        },
        "id": "zibasAMPmn6e",
        "outputId": "68333d92-9be5-44cd-9ac2-d006e5c6dead"
      },
      "source": [
        "type(PRICE[0])"
      ],
      "execution_count": null,
      "outputs": [
        {
          "output_type": "execute_result",
          "data": {
            "text/plain": [
              "float"
            ]
          },
          "metadata": {},
          "execution_count": 420
        }
      ]
    },
    {
      "cell_type": "code",
      "metadata": {
        "id": "lQR9zq1Smn6e"
      },
      "source": [
        "list_of_tuples = list(zip(DESCRIPTION, DEALER, MILES_DRIVEN ,RATE ,NO_OF_REVIEWS, PRICE))"
      ],
      "execution_count": null,
      "outputs": []
    },
    {
      "cell_type": "code",
      "metadata": {
        "id": "ivbHyBhRmn6g"
      },
      "source": [
        "df = pd.DataFrame(list_of_tuples, columns = ['DESCRIPTION', 'DEALER', 'MILES_DRIVEN', 'RATE','NO_OF_REVIEWS','PRICE'])"
      ],
      "execution_count": null,
      "outputs": []
    },
    {
      "cell_type": "code",
      "metadata": {
        "id": "N-dFa4v3mn6h"
      },
      "source": [
        "df[['MODEL','CAR_NAME']]=pd.DataFrame(df.DESCRIPTION.tolist(), index= df.index)  "
      ],
      "execution_count": null,
      "outputs": []
    },
    {
      "cell_type": "code",
      "metadata": {
        "colab": {
          "base_uri": "https://localhost:8080/",
          "height": 418
        },
        "id": "O6G_l9Qimn6h",
        "outputId": "a2cae1bb-83f2-4d2a-a6de-db7ebccc965f"
      },
      "source": [
        "df"
      ],
      "execution_count": null,
      "outputs": [
        {
          "output_type": "execute_result",
          "data": {
            "text/html": [
              "<div>\n",
              "<style scoped>\n",
              "    .dataframe tbody tr th:only-of-type {\n",
              "        vertical-align: middle;\n",
              "    }\n",
              "\n",
              "    .dataframe tbody tr th {\n",
              "        vertical-align: top;\n",
              "    }\n",
              "\n",
              "    .dataframe thead th {\n",
              "        text-align: right;\n",
              "    }\n",
              "</style>\n",
              "<table border=\"1\" class=\"dataframe\">\n",
              "  <thead>\n",
              "    <tr style=\"text-align: right;\">\n",
              "      <th></th>\n",
              "      <th>DESCRIPTION</th>\n",
              "      <th>DEALER</th>\n",
              "      <th>MILES_DRIVEN</th>\n",
              "      <th>RATE</th>\n",
              "      <th>NO_OF_REVIEWS</th>\n",
              "      <th>PRICE</th>\n",
              "      <th>MODEL</th>\n",
              "      <th>CAR_NAME</th>\n",
              "    </tr>\n",
              "  </thead>\n",
              "  <tbody>\n",
              "    <tr>\n",
              "      <th>0</th>\n",
              "      <td>[2016, Honda CR-V EX]</td>\n",
              "      <td>Honda of Downtown Chicago</td>\n",
              "      <td>46994.0</td>\n",
              "      <td>4.0</td>\n",
              "      <td>67</td>\n",
              "      <td>22665.0</td>\n",
              "      <td>2016</td>\n",
              "      <td>Honda CR-V EX</td>\n",
              "    </tr>\n",
              "    <tr>\n",
              "      <th>1</th>\n",
              "      <td>[2012, Honda CR-V EX]</td>\n",
              "      <td>McGrath Lexus Chicago</td>\n",
              "      <td>94493.0</td>\n",
              "      <td>4.7</td>\n",
              "      <td>263</td>\n",
              "      <td>15574.0</td>\n",
              "      <td>2012</td>\n",
              "      <td>Honda CR-V EX</td>\n",
              "    </tr>\n",
              "    <tr>\n",
              "      <th>2</th>\n",
              "      <td>[2018, Honda CR-V EX]</td>\n",
              "      <td>Honda of Downtown Chicago</td>\n",
              "      <td>19944.0</td>\n",
              "      <td>4.0</td>\n",
              "      <td>67</td>\n",
              "      <td>28000.0</td>\n",
              "      <td>2018</td>\n",
              "      <td>Honda CR-V EX</td>\n",
              "    </tr>\n",
              "    <tr>\n",
              "      <th>3</th>\n",
              "      <td>[2020, Honda Accord Sport 1.5T]</td>\n",
              "      <td>Honda of Downtown Chicago</td>\n",
              "      <td>11936.0</td>\n",
              "      <td>4.0</td>\n",
              "      <td>67</td>\n",
              "      <td>28844.0</td>\n",
              "      <td>2020</td>\n",
              "      <td>Honda Accord Sport 1.5T</td>\n",
              "    </tr>\n",
              "    <tr>\n",
              "      <th>4</th>\n",
              "      <td>[2017, Honda Civic LX]</td>\n",
              "      <td>Honda of Downtown Chicago</td>\n",
              "      <td>41768.0</td>\n",
              "      <td>4.0</td>\n",
              "      <td>67</td>\n",
              "      <td>20000.0</td>\n",
              "      <td>2017</td>\n",
              "      <td>Honda Civic LX</td>\n",
              "    </tr>\n",
              "    <tr>\n",
              "      <th>...</th>\n",
              "      <td>...</td>\n",
              "      <td>...</td>\n",
              "      <td>...</td>\n",
              "      <td>...</td>\n",
              "      <td>...</td>\n",
              "      <td>...</td>\n",
              "      <td>...</td>\n",
              "      <td>...</td>\n",
              "    </tr>\n",
              "    <tr>\n",
              "      <th>394</th>\n",
              "      <td>[2008, Honda CR-V EX]</td>\n",
              "      <td>B &amp; M Auto Sales</td>\n",
              "      <td>99055.0</td>\n",
              "      <td>4.7</td>\n",
              "      <td>126</td>\n",
              "      <td>12900.0</td>\n",
              "      <td>2008</td>\n",
              "      <td>Honda CR-V EX</td>\n",
              "    </tr>\n",
              "    <tr>\n",
              "      <th>395</th>\n",
              "      <td>[2006, Honda Odyssey TOURING]</td>\n",
              "      <td>Audi Naperville</td>\n",
              "      <td>128470.0</td>\n",
              "      <td>4.6</td>\n",
              "      <td>98</td>\n",
              "      <td>7491.0</td>\n",
              "      <td>2006</td>\n",
              "      <td>Honda Odyssey TOURING</td>\n",
              "    </tr>\n",
              "    <tr>\n",
              "      <th>396</th>\n",
              "      <td>[2011, Honda CR-V EX-L]</td>\n",
              "      <td>Cadillac of Naperville</td>\n",
              "      <td>114317.0</td>\n",
              "      <td>3.7</td>\n",
              "      <td>6162</td>\n",
              "      <td>12995.0</td>\n",
              "      <td>2011</td>\n",
              "      <td>Honda CR-V EX-L</td>\n",
              "    </tr>\n",
              "    <tr>\n",
              "      <th>397</th>\n",
              "      <td>[2020, Honda Odyssey EX]</td>\n",
              "      <td>Vroom - Get It Delivered Nationwide, Contact-Free</td>\n",
              "      <td>10097.0</td>\n",
              "      <td>2.1</td>\n",
              "      <td>8</td>\n",
              "      <td>37999.0</td>\n",
              "      <td>2020</td>\n",
              "      <td>Honda Odyssey EX</td>\n",
              "    </tr>\n",
              "    <tr>\n",
              "      <th>398</th>\n",
              "      <td>[2020, Honda Civic Sport]</td>\n",
              "      <td>CarMax Naperville - Now offering Curbside Pickup</td>\n",
              "      <td>11557.0</td>\n",
              "      <td>4.7</td>\n",
              "      <td>607</td>\n",
              "      <td>24998.0</td>\n",
              "      <td>2020</td>\n",
              "      <td>Honda Civic Sport</td>\n",
              "    </tr>\n",
              "  </tbody>\n",
              "</table>\n",
              "<p>399 rows × 8 columns</p>\n",
              "</div>"
            ],
            "text/plain": [
              "                         DESCRIPTION  ...                 CAR_NAME\n",
              "0              [2016, Honda CR-V EX]  ...            Honda CR-V EX\n",
              "1              [2012, Honda CR-V EX]  ...            Honda CR-V EX\n",
              "2              [2018, Honda CR-V EX]  ...            Honda CR-V EX\n",
              "3    [2020, Honda Accord Sport 1.5T]  ...  Honda Accord Sport 1.5T\n",
              "4             [2017, Honda Civic LX]  ...           Honda Civic LX\n",
              "..                               ...  ...                      ...\n",
              "394            [2008, Honda CR-V EX]  ...            Honda CR-V EX\n",
              "395    [2006, Honda Odyssey TOURING]  ...    Honda Odyssey TOURING\n",
              "396          [2011, Honda CR-V EX-L]  ...          Honda CR-V EX-L\n",
              "397         [2020, Honda Odyssey EX]  ...         Honda Odyssey EX\n",
              "398        [2020, Honda Civic Sport]  ...        Honda Civic Sport\n",
              "\n",
              "[399 rows x 8 columns]"
            ]
          },
          "metadata": {},
          "execution_count": 520
        }
      ]
    },
    {
      "cell_type": "code",
      "metadata": {
        "id": "akG5Hw6Jmn6h"
      },
      "source": [
        "df = df.iloc[:, [0,7,6,1,2,3,4,5]] # change order of data frame columns "
      ],
      "execution_count": null,
      "outputs": []
    },
    {
      "cell_type": "code",
      "metadata": {
        "colab": {
          "base_uri": "https://localhost:8080/"
        },
        "id": "rEEelzR6mn6i",
        "outputId": "25d9309e-7c3d-466b-c037-423e0e504f6a"
      },
      "source": [
        "df.drop('DESCRIPTION',axis='columns', inplace=True)"
      ],
      "execution_count": null,
      "outputs": [
        {
          "output_type": "stream",
          "name": "stderr",
          "text": [
            "/usr/local/lib/python3.7/dist-packages/pandas/core/frame.py:4174: SettingWithCopyWarning: \n",
            "A value is trying to be set on a copy of a slice from a DataFrame\n",
            "\n",
            "See the caveats in the documentation: https://pandas.pydata.org/pandas-docs/stable/user_guide/indexing.html#returning-a-view-versus-a-copy\n",
            "  errors=errors,\n"
          ]
        }
      ]
    },
    {
      "cell_type": "code",
      "metadata": {
        "colab": {
          "base_uri": "https://localhost:8080/",
          "height": 418
        },
        "id": "KKF2RyMXmn6i",
        "outputId": "59c66acd-b6c5-4373-ae06-df11875ffa9a"
      },
      "source": [
        "df"
      ],
      "execution_count": null,
      "outputs": [
        {
          "output_type": "execute_result",
          "data": {
            "text/html": [
              "<div>\n",
              "<style scoped>\n",
              "    .dataframe tbody tr th:only-of-type {\n",
              "        vertical-align: middle;\n",
              "    }\n",
              "\n",
              "    .dataframe tbody tr th {\n",
              "        vertical-align: top;\n",
              "    }\n",
              "\n",
              "    .dataframe thead th {\n",
              "        text-align: right;\n",
              "    }\n",
              "</style>\n",
              "<table border=\"1\" class=\"dataframe\">\n",
              "  <thead>\n",
              "    <tr style=\"text-align: right;\">\n",
              "      <th></th>\n",
              "      <th>CAR_NAME</th>\n",
              "      <th>MODEL</th>\n",
              "      <th>DEALER</th>\n",
              "      <th>MILES_DRIVEN</th>\n",
              "      <th>RATE</th>\n",
              "      <th>NO_OF_REVIEWS</th>\n",
              "      <th>PRICE</th>\n",
              "    </tr>\n",
              "  </thead>\n",
              "  <tbody>\n",
              "    <tr>\n",
              "      <th>0</th>\n",
              "      <td>Honda CR-V EX</td>\n",
              "      <td>2016</td>\n",
              "      <td>Honda of Downtown Chicago</td>\n",
              "      <td>46994.0</td>\n",
              "      <td>4.0</td>\n",
              "      <td>67</td>\n",
              "      <td>22665.0</td>\n",
              "    </tr>\n",
              "    <tr>\n",
              "      <th>1</th>\n",
              "      <td>Honda CR-V EX</td>\n",
              "      <td>2012</td>\n",
              "      <td>McGrath Lexus Chicago</td>\n",
              "      <td>94493.0</td>\n",
              "      <td>4.7</td>\n",
              "      <td>263</td>\n",
              "      <td>15574.0</td>\n",
              "    </tr>\n",
              "    <tr>\n",
              "      <th>2</th>\n",
              "      <td>Honda CR-V EX</td>\n",
              "      <td>2018</td>\n",
              "      <td>Honda of Downtown Chicago</td>\n",
              "      <td>19944.0</td>\n",
              "      <td>4.0</td>\n",
              "      <td>67</td>\n",
              "      <td>28000.0</td>\n",
              "    </tr>\n",
              "    <tr>\n",
              "      <th>3</th>\n",
              "      <td>Honda Accord Sport 1.5T</td>\n",
              "      <td>2020</td>\n",
              "      <td>Honda of Downtown Chicago</td>\n",
              "      <td>11936.0</td>\n",
              "      <td>4.0</td>\n",
              "      <td>67</td>\n",
              "      <td>28844.0</td>\n",
              "    </tr>\n",
              "    <tr>\n",
              "      <th>4</th>\n",
              "      <td>Honda Civic LX</td>\n",
              "      <td>2017</td>\n",
              "      <td>Honda of Downtown Chicago</td>\n",
              "      <td>41768.0</td>\n",
              "      <td>4.0</td>\n",
              "      <td>67</td>\n",
              "      <td>20000.0</td>\n",
              "    </tr>\n",
              "    <tr>\n",
              "      <th>...</th>\n",
              "      <td>...</td>\n",
              "      <td>...</td>\n",
              "      <td>...</td>\n",
              "      <td>...</td>\n",
              "      <td>...</td>\n",
              "      <td>...</td>\n",
              "      <td>...</td>\n",
              "    </tr>\n",
              "    <tr>\n",
              "      <th>394</th>\n",
              "      <td>Honda CR-V EX</td>\n",
              "      <td>2008</td>\n",
              "      <td>B &amp; M Auto Sales</td>\n",
              "      <td>99055.0</td>\n",
              "      <td>4.7</td>\n",
              "      <td>126</td>\n",
              "      <td>12900.0</td>\n",
              "    </tr>\n",
              "    <tr>\n",
              "      <th>395</th>\n",
              "      <td>Honda Odyssey TOURING</td>\n",
              "      <td>2006</td>\n",
              "      <td>Audi Naperville</td>\n",
              "      <td>128470.0</td>\n",
              "      <td>4.6</td>\n",
              "      <td>98</td>\n",
              "      <td>7491.0</td>\n",
              "    </tr>\n",
              "    <tr>\n",
              "      <th>396</th>\n",
              "      <td>Honda CR-V EX-L</td>\n",
              "      <td>2011</td>\n",
              "      <td>Cadillac of Naperville</td>\n",
              "      <td>114317.0</td>\n",
              "      <td>3.7</td>\n",
              "      <td>6162</td>\n",
              "      <td>12995.0</td>\n",
              "    </tr>\n",
              "    <tr>\n",
              "      <th>397</th>\n",
              "      <td>Honda Odyssey EX</td>\n",
              "      <td>2020</td>\n",
              "      <td>Vroom - Get It Delivered Nationwide, Contact-Free</td>\n",
              "      <td>10097.0</td>\n",
              "      <td>2.1</td>\n",
              "      <td>8</td>\n",
              "      <td>37999.0</td>\n",
              "    </tr>\n",
              "    <tr>\n",
              "      <th>398</th>\n",
              "      <td>Honda Civic Sport</td>\n",
              "      <td>2020</td>\n",
              "      <td>CarMax Naperville - Now offering Curbside Pickup</td>\n",
              "      <td>11557.0</td>\n",
              "      <td>4.7</td>\n",
              "      <td>607</td>\n",
              "      <td>24998.0</td>\n",
              "    </tr>\n",
              "  </tbody>\n",
              "</table>\n",
              "<p>399 rows × 7 columns</p>\n",
              "</div>"
            ],
            "text/plain": [
              "                    CAR_NAME MODEL  ... NO_OF_REVIEWS    PRICE\n",
              "0              Honda CR-V EX  2016  ...            67  22665.0\n",
              "1              Honda CR-V EX  2012  ...           263  15574.0\n",
              "2              Honda CR-V EX  2018  ...            67  28000.0\n",
              "3    Honda Accord Sport 1.5T  2020  ...            67  28844.0\n",
              "4             Honda Civic LX  2017  ...            67  20000.0\n",
              "..                       ...   ...  ...           ...      ...\n",
              "394            Honda CR-V EX  2008  ...           126  12900.0\n",
              "395    Honda Odyssey TOURING  2006  ...            98   7491.0\n",
              "396          Honda CR-V EX-L  2011  ...          6162  12995.0\n",
              "397         Honda Odyssey EX  2020  ...             8  37999.0\n",
              "398        Honda Civic Sport  2020  ...           607  24998.0\n",
              "\n",
              "[399 rows x 7 columns]"
            ]
          },
          "metadata": {},
          "execution_count": 523
        }
      ]
    },
    {
      "cell_type": "code",
      "metadata": {
        "colab": {
          "base_uri": "https://localhost:8080/",
          "height": 296
        },
        "id": "Y-i8SeWRrzgq",
        "outputId": "4fcb6eb4-49e0-4c50-c56a-79b458f3267a"
      },
      "source": [
        "df.describe()"
      ],
      "execution_count": null,
      "outputs": [
        {
          "output_type": "execute_result",
          "data": {
            "text/html": [
              "<div>\n",
              "<style scoped>\n",
              "    .dataframe tbody tr th:only-of-type {\n",
              "        vertical-align: middle;\n",
              "    }\n",
              "\n",
              "    .dataframe tbody tr th {\n",
              "        vertical-align: top;\n",
              "    }\n",
              "\n",
              "    .dataframe thead th {\n",
              "        text-align: right;\n",
              "    }\n",
              "</style>\n",
              "<table border=\"1\" class=\"dataframe\">\n",
              "  <thead>\n",
              "    <tr style=\"text-align: right;\">\n",
              "      <th></th>\n",
              "      <th>MILES_DRIVEN</th>\n",
              "      <th>RATE</th>\n",
              "      <th>NO_OF_REVIEWS</th>\n",
              "      <th>PRICE</th>\n",
              "    </tr>\n",
              "  </thead>\n",
              "  <tbody>\n",
              "    <tr>\n",
              "      <th>count</th>\n",
              "      <td>399.000000</td>\n",
              "      <td>399.000000</td>\n",
              "      <td>399.000000</td>\n",
              "      <td>399.000000</td>\n",
              "    </tr>\n",
              "    <tr>\n",
              "      <th>mean</th>\n",
              "      <td>48323.822055</td>\n",
              "      <td>4.316291</td>\n",
              "      <td>922.102757</td>\n",
              "      <td>24773.591479</td>\n",
              "    </tr>\n",
              "    <tr>\n",
              "      <th>std</th>\n",
              "      <td>37867.267520</td>\n",
              "      <td>0.609894</td>\n",
              "      <td>1450.564542</td>\n",
              "      <td>8623.069755</td>\n",
              "    </tr>\n",
              "    <tr>\n",
              "      <th>min</th>\n",
              "      <td>223.000000</td>\n",
              "      <td>2.100000</td>\n",
              "      <td>1.000000</td>\n",
              "      <td>3995.000000</td>\n",
              "    </tr>\n",
              "    <tr>\n",
              "      <th>25%</th>\n",
              "      <td>22522.500000</td>\n",
              "      <td>4.000000</td>\n",
              "      <td>67.000000</td>\n",
              "      <td>18997.500000</td>\n",
              "    </tr>\n",
              "    <tr>\n",
              "      <th>50%</th>\n",
              "      <td>36987.000000</td>\n",
              "      <td>4.600000</td>\n",
              "      <td>327.000000</td>\n",
              "      <td>24475.000000</td>\n",
              "    </tr>\n",
              "    <tr>\n",
              "      <th>75%</th>\n",
              "      <td>65847.000000</td>\n",
              "      <td>4.700000</td>\n",
              "      <td>1094.000000</td>\n",
              "      <td>30997.000000</td>\n",
              "    </tr>\n",
              "    <tr>\n",
              "      <th>max</th>\n",
              "      <td>269590.000000</td>\n",
              "      <td>5.000000</td>\n",
              "      <td>7969.000000</td>\n",
              "      <td>46888.000000</td>\n",
              "    </tr>\n",
              "  </tbody>\n",
              "</table>\n",
              "</div>"
            ],
            "text/plain": [
              "        MILES_DRIVEN        RATE  NO_OF_REVIEWS         PRICE\n",
              "count     399.000000  399.000000     399.000000    399.000000\n",
              "mean    48323.822055    4.316291     922.102757  24773.591479\n",
              "std     37867.267520    0.609894    1450.564542   8623.069755\n",
              "min       223.000000    2.100000       1.000000   3995.000000\n",
              "25%     22522.500000    4.000000      67.000000  18997.500000\n",
              "50%     36987.000000    4.600000     327.000000  24475.000000\n",
              "75%     65847.000000    4.700000    1094.000000  30997.000000\n",
              "max    269590.000000    5.000000    7969.000000  46888.000000"
            ]
          },
          "metadata": {},
          "execution_count": 524
        }
      ]
    },
    {
      "cell_type": "code",
      "metadata": {
        "colab": {
          "base_uri": "https://localhost:8080/"
        },
        "id": "sa46cl45r58s",
        "outputId": "81159ddf-a1ba-4c3e-f5fc-261bec579e9e"
      },
      "source": [
        "df.info()"
      ],
      "execution_count": null,
      "outputs": [
        {
          "output_type": "stream",
          "name": "stdout",
          "text": [
            "<class 'pandas.core.frame.DataFrame'>\n",
            "RangeIndex: 399 entries, 0 to 398\n",
            "Data columns (total 7 columns):\n",
            " #   Column         Non-Null Count  Dtype  \n",
            "---  ------         --------------  -----  \n",
            " 0   CAR_NAME       399 non-null    object \n",
            " 1   MODEL          399 non-null    object \n",
            " 2   DEALER         399 non-null    object \n",
            " 3   MILES_DRIVEN   399 non-null    float64\n",
            " 4   RATE           399 non-null    float64\n",
            " 5   NO_OF_REVIEWS  399 non-null    int64  \n",
            " 6   PRICE          399 non-null    float64\n",
            "dtypes: float64(3), int64(1), object(3)\n",
            "memory usage: 21.9+ KB\n"
          ]
        }
      ]
    },
    {
      "cell_type": "markdown",
      "metadata": {
        "id": "ok7uzNA5SgG7"
      },
      "source": [
        "Missing values:"
      ]
    },
    {
      "cell_type": "code",
      "metadata": {
        "colab": {
          "base_uri": "https://localhost:8080/"
        },
        "id": "SKx7hNkUq-nq",
        "outputId": "b3c13c99-d7a6-4e33-d152-a12545963aac"
      },
      "source": [
        "df.isnull().sum()"
      ],
      "execution_count": null,
      "outputs": [
        {
          "output_type": "execute_result",
          "data": {
            "text/plain": [
              "CAR_NAME         0\n",
              "MODEL            0\n",
              "DEALER           0\n",
              "MILES_DRIVEN     0\n",
              "RATE             0\n",
              "NO_OF_REVIEWS    0\n",
              "PRICE            0\n",
              "dtype: int64"
            ]
          },
          "metadata": {},
          "execution_count": 526
        }
      ]
    },
    {
      "cell_type": "markdown",
      "metadata": {
        "id": "jZ5RYElXSnnz"
      },
      "source": [
        "Duplicate:"
      ]
    },
    {
      "cell_type": "code",
      "metadata": {
        "colab": {
          "base_uri": "https://localhost:8080/"
        },
        "id": "kll001M6rGHl",
        "outputId": "516841bc-81d4-4087-ec54-852830e8148a"
      },
      "source": [
        "df.duplicated().sum()"
      ],
      "execution_count": null,
      "outputs": [
        {
          "output_type": "execute_result",
          "data": {
            "text/plain": [
              "0"
            ]
          },
          "metadata": {},
          "execution_count": 527
        }
      ]
    },
    {
      "cell_type": "code",
      "metadata": {
        "colab": {
          "base_uri": "https://localhost:8080/"
        },
        "id": "y1omBTEuD6zi",
        "outputId": "54e384bf-6be5-4fd1-8a1d-249d516e46a1"
      },
      "source": [
        "len(df)"
      ],
      "execution_count": null,
      "outputs": [
        {
          "output_type": "execute_result",
          "data": {
            "text/plain": [
              "399"
            ]
          },
          "metadata": {},
          "execution_count": 528
        }
      ]
    },
    {
      "cell_type": "markdown",
      "metadata": {
        "id": "GoLjs96dKl7h"
      },
      "source": [
        "Convert the DataType of the MODEL from object into numeric"
      ]
    },
    {
      "cell_type": "code",
      "metadata": {
        "colab": {
          "base_uri": "https://localhost:8080/"
        },
        "id": "QVOMkoInsApl",
        "outputId": "d24d22cf-8cbb-4832-b2a5-917a833df426"
      },
      "source": [
        "df[\"MODEL\"] = pd.to_numeric(df[\"MODEL\"])"
      ],
      "execution_count": null,
      "outputs": [
        {
          "output_type": "stream",
          "name": "stderr",
          "text": [
            "/usr/local/lib/python3.7/dist-packages/ipykernel_launcher.py:1: SettingWithCopyWarning: \n",
            "A value is trying to be set on a copy of a slice from a DataFrame.\n",
            "Try using .loc[row_indexer,col_indexer] = value instead\n",
            "\n",
            "See the caveats in the documentation: https://pandas.pydata.org/pandas-docs/stable/user_guide/indexing.html#returning-a-view-versus-a-copy\n",
            "  \"\"\"Entry point for launching an IPython kernel.\n"
          ]
        }
      ]
    },
    {
      "cell_type": "markdown",
      "metadata": {
        "id": "_lSAZGpLLKse"
      },
      "source": [
        "Verify the process of converting the data type of the MODEL column"
      ]
    },
    {
      "cell_type": "code",
      "metadata": {
        "colab": {
          "base_uri": "https://localhost:8080/"
        },
        "id": "M1_yvwS2sbqw",
        "outputId": "bd64823d-65ee-4e16-cd63-fbaffaa28bb2"
      },
      "source": [
        "df.info()"
      ],
      "execution_count": null,
      "outputs": [
        {
          "output_type": "stream",
          "name": "stdout",
          "text": [
            "<class 'pandas.core.frame.DataFrame'>\n",
            "RangeIndex: 399 entries, 0 to 398\n",
            "Data columns (total 7 columns):\n",
            " #   Column         Non-Null Count  Dtype  \n",
            "---  ------         --------------  -----  \n",
            " 0   CAR_NAME       399 non-null    object \n",
            " 1   MODEL          399 non-null    int64  \n",
            " 2   DEALER         399 non-null    object \n",
            " 3   MILES_DRIVEN   399 non-null    float64\n",
            " 4   RATE           399 non-null    float64\n",
            " 5   NO_OF_REVIEWS  399 non-null    int64  \n",
            " 6   PRICE          399 non-null    float64\n",
            "dtypes: float64(3), int64(2), object(2)\n",
            "memory usage: 21.9+ KB\n"
          ]
        }
      ]
    },
    {
      "cell_type": "code",
      "metadata": {
        "colab": {
          "base_uri": "https://localhost:8080/",
          "height": 418
        },
        "id": "Yxfk8yPO2YiW",
        "outputId": "2b02825c-648d-4757-c84c-d96d54e4164a"
      },
      "source": [
        "df "
      ],
      "execution_count": null,
      "outputs": [
        {
          "output_type": "execute_result",
          "data": {
            "text/html": [
              "<div>\n",
              "<style scoped>\n",
              "    .dataframe tbody tr th:only-of-type {\n",
              "        vertical-align: middle;\n",
              "    }\n",
              "\n",
              "    .dataframe tbody tr th {\n",
              "        vertical-align: top;\n",
              "    }\n",
              "\n",
              "    .dataframe thead th {\n",
              "        text-align: right;\n",
              "    }\n",
              "</style>\n",
              "<table border=\"1\" class=\"dataframe\">\n",
              "  <thead>\n",
              "    <tr style=\"text-align: right;\">\n",
              "      <th></th>\n",
              "      <th>CAR_NAME</th>\n",
              "      <th>MODEL</th>\n",
              "      <th>DEALER</th>\n",
              "      <th>MILES_DRIVEN</th>\n",
              "      <th>RATE</th>\n",
              "      <th>NO_OF_REVIEWS</th>\n",
              "      <th>PRICE</th>\n",
              "    </tr>\n",
              "  </thead>\n",
              "  <tbody>\n",
              "    <tr>\n",
              "      <th>0</th>\n",
              "      <td>Honda CR-V EX</td>\n",
              "      <td>2016</td>\n",
              "      <td>Honda of Downtown Chicago</td>\n",
              "      <td>46994.0</td>\n",
              "      <td>4.0</td>\n",
              "      <td>67</td>\n",
              "      <td>22665.0</td>\n",
              "    </tr>\n",
              "    <tr>\n",
              "      <th>1</th>\n",
              "      <td>Honda CR-V EX</td>\n",
              "      <td>2012</td>\n",
              "      <td>McGrath Lexus Chicago</td>\n",
              "      <td>94493.0</td>\n",
              "      <td>4.7</td>\n",
              "      <td>263</td>\n",
              "      <td>15574.0</td>\n",
              "    </tr>\n",
              "    <tr>\n",
              "      <th>2</th>\n",
              "      <td>Honda CR-V EX</td>\n",
              "      <td>2018</td>\n",
              "      <td>Honda of Downtown Chicago</td>\n",
              "      <td>19944.0</td>\n",
              "      <td>4.0</td>\n",
              "      <td>67</td>\n",
              "      <td>28000.0</td>\n",
              "    </tr>\n",
              "    <tr>\n",
              "      <th>3</th>\n",
              "      <td>Honda Accord Sport 1.5T</td>\n",
              "      <td>2020</td>\n",
              "      <td>Honda of Downtown Chicago</td>\n",
              "      <td>11936.0</td>\n",
              "      <td>4.0</td>\n",
              "      <td>67</td>\n",
              "      <td>28844.0</td>\n",
              "    </tr>\n",
              "    <tr>\n",
              "      <th>4</th>\n",
              "      <td>Honda Civic LX</td>\n",
              "      <td>2017</td>\n",
              "      <td>Honda of Downtown Chicago</td>\n",
              "      <td>41768.0</td>\n",
              "      <td>4.0</td>\n",
              "      <td>67</td>\n",
              "      <td>20000.0</td>\n",
              "    </tr>\n",
              "    <tr>\n",
              "      <th>...</th>\n",
              "      <td>...</td>\n",
              "      <td>...</td>\n",
              "      <td>...</td>\n",
              "      <td>...</td>\n",
              "      <td>...</td>\n",
              "      <td>...</td>\n",
              "      <td>...</td>\n",
              "    </tr>\n",
              "    <tr>\n",
              "      <th>394</th>\n",
              "      <td>Honda CR-V EX</td>\n",
              "      <td>2008</td>\n",
              "      <td>B &amp; M Auto Sales</td>\n",
              "      <td>99055.0</td>\n",
              "      <td>4.7</td>\n",
              "      <td>126</td>\n",
              "      <td>12900.0</td>\n",
              "    </tr>\n",
              "    <tr>\n",
              "      <th>395</th>\n",
              "      <td>Honda Odyssey TOURING</td>\n",
              "      <td>2006</td>\n",
              "      <td>Audi Naperville</td>\n",
              "      <td>128470.0</td>\n",
              "      <td>4.6</td>\n",
              "      <td>98</td>\n",
              "      <td>7491.0</td>\n",
              "    </tr>\n",
              "    <tr>\n",
              "      <th>396</th>\n",
              "      <td>Honda CR-V EX-L</td>\n",
              "      <td>2011</td>\n",
              "      <td>Cadillac of Naperville</td>\n",
              "      <td>114317.0</td>\n",
              "      <td>3.7</td>\n",
              "      <td>6162</td>\n",
              "      <td>12995.0</td>\n",
              "    </tr>\n",
              "    <tr>\n",
              "      <th>397</th>\n",
              "      <td>Honda Odyssey EX</td>\n",
              "      <td>2020</td>\n",
              "      <td>Vroom - Get It Delivered Nationwide, Contact-Free</td>\n",
              "      <td>10097.0</td>\n",
              "      <td>2.1</td>\n",
              "      <td>8</td>\n",
              "      <td>37999.0</td>\n",
              "    </tr>\n",
              "    <tr>\n",
              "      <th>398</th>\n",
              "      <td>Honda Civic Sport</td>\n",
              "      <td>2020</td>\n",
              "      <td>CarMax Naperville - Now offering Curbside Pickup</td>\n",
              "      <td>11557.0</td>\n",
              "      <td>4.7</td>\n",
              "      <td>607</td>\n",
              "      <td>24998.0</td>\n",
              "    </tr>\n",
              "  </tbody>\n",
              "</table>\n",
              "<p>399 rows × 7 columns</p>\n",
              "</div>"
            ],
            "text/plain": [
              "                    CAR_NAME  MODEL  ... NO_OF_REVIEWS    PRICE\n",
              "0              Honda CR-V EX   2016  ...            67  22665.0\n",
              "1              Honda CR-V EX   2012  ...           263  15574.0\n",
              "2              Honda CR-V EX   2018  ...            67  28000.0\n",
              "3    Honda Accord Sport 1.5T   2020  ...            67  28844.0\n",
              "4             Honda Civic LX   2017  ...            67  20000.0\n",
              "..                       ...    ...  ...           ...      ...\n",
              "394            Honda CR-V EX   2008  ...           126  12900.0\n",
              "395    Honda Odyssey TOURING   2006  ...            98   7491.0\n",
              "396          Honda CR-V EX-L   2011  ...          6162  12995.0\n",
              "397         Honda Odyssey EX   2020  ...             8  37999.0\n",
              "398        Honda Civic Sport   2020  ...           607  24998.0\n",
              "\n",
              "[399 rows x 7 columns]"
            ]
          },
          "metadata": {},
          "execution_count": 531
        }
      ]
    },
    {
      "cell_type": "markdown",
      "metadata": {
        "id": "mFajuZBqO1dS"
      },
      "source": [
        "**Visualize data**"
      ]
    },
    {
      "cell_type": "markdown",
      "metadata": {
        "id": "RZDA3xYZM62u"
      },
      "source": [
        "The first plot is a histogram plot to show the Count Of Cars By Price, and the second plot is a distplot that represent the Density or Relative Frequency Of Cars By Price."
      ]
    },
    {
      "cell_type": "code",
      "metadata": {
        "colab": {
          "base_uri": "https://localhost:8080/",
          "height": 424
        },
        "id": "-9W059XK4dea",
        "outputId": "072c47e2-631a-4bcd-bd98-b4b585a4fe89"
      },
      "source": [
        "fig, ax= plt.subplots(1,2,figsize=(15,5))\n",
        "\n",
        "sns.distplot(df['PRICE'], norm_hist=False, kde=False, ax=ax[0], color='#255075') #'#3470A3', '#79ABC9'\n",
        "ax[0].set_xlabel('Car Price')\n",
        "ax[0].set_ylabel('Count of cars',size=12)\n",
        "ax[0].set_title('Count Of Cars By Price \\n',size=16,weight=\"bold\")\n",
        "\n",
        "sns.distplot(df['PRICE'], kde=True, ax=ax[1], color= '#3470A3')\n",
        "ax[1].set_xlabel('Car Price')\n",
        "ax[1].set_ylabel('Relative Frequency of cars',size=12)\n",
        "ax[1].set_title('Density or Relative Frequency Of Cars By Price \\n',size=16,weight=\"bold\")\n",
        "#plt.savefig('visu.png') # To save the plot.\n",
        "#files.download('visu.png') # To download the plot to your computer."
      ],
      "execution_count": null,
      "outputs": [
        {
          "output_type": "stream",
          "name": "stderr",
          "text": [
            "/usr/local/lib/python3.7/dist-packages/seaborn/distributions.py:2619: FutureWarning: `distplot` is a deprecated function and will be removed in a future version. Please adapt your code to use either `displot` (a figure-level function with similar flexibility) or `histplot` (an axes-level function for histograms).\n",
            "  warnings.warn(msg, FutureWarning)\n"
          ]
        },
        {
          "output_type": "display_data",
          "data": {
            "application/javascript": [
              "\n",
              "    async function download(id, filename, size) {\n",
              "      if (!google.colab.kernel.accessAllowed) {\n",
              "        return;\n",
              "      }\n",
              "      const div = document.createElement('div');\n",
              "      const label = document.createElement('label');\n",
              "      label.textContent = `Downloading \"${filename}\": `;\n",
              "      div.appendChild(label);\n",
              "      const progress = document.createElement('progress');\n",
              "      progress.max = size;\n",
              "      div.appendChild(progress);\n",
              "      document.body.appendChild(div);\n",
              "\n",
              "      const buffers = [];\n",
              "      let downloaded = 0;\n",
              "\n",
              "      const channel = await google.colab.kernel.comms.open(id);\n",
              "      // Send a message to notify the kernel that we're ready.\n",
              "      channel.send({})\n",
              "\n",
              "      for await (const message of channel.messages) {\n",
              "        // Send a message to notify the kernel that we're ready.\n",
              "        channel.send({})\n",
              "        if (message.buffers) {\n",
              "          for (const buffer of message.buffers) {\n",
              "            buffers.push(buffer);\n",
              "            downloaded += buffer.byteLength;\n",
              "            progress.value = downloaded;\n",
              "          }\n",
              "        }\n",
              "      }\n",
              "      const blob = new Blob(buffers, {type: 'application/binary'});\n",
              "      const a = document.createElement('a');\n",
              "      a.href = window.URL.createObjectURL(blob);\n",
              "      a.download = filename;\n",
              "      div.appendChild(a);\n",
              "      a.click();\n",
              "      div.remove();\n",
              "    }\n",
              "  "
            ],
            "text/plain": [
              "<IPython.core.display.Javascript object>"
            ]
          },
          "metadata": {}
        },
        {
          "output_type": "display_data",
          "data": {
            "application/javascript": [
              "download(\"download_dafcd7a7-0c25-416a-be70-49d248518c03\", \"visu.png\", 31349)"
            ],
            "text/plain": [
              "<IPython.core.display.Javascript object>"
            ]
          },
          "metadata": {}
        },
        {
          "output_type": "display_data",
          "data": {
            "image/png": "[encoded data removed]",
            "text/plain": [
              "<Figure size 1080x360 with 2 Axes>"
            ]
          },
          "metadata": {
            "needs_background": "light"
          }
        }
      ]
    },
    {
      "cell_type": "markdown",
      "metadata": {
        "id": "2ieY74QuPfmY"
      },
      "source": [
        "**Using pairplot to shows the relationship for (n, 2) combination of features in a DataFrame.**"
      ]
    },
    {
      "cell_type": "code",
      "metadata": {
        "colab": {
          "base_uri": "https://localhost:8080/",
          "height": 940
        },
        "id": "T9FWBRmG6nGC",
        "outputId": "09e698b1-e623-416b-8aa5-0f7907e8b3f7"
      },
      "source": [
        "cars_numeric=df.select_dtypes(include=['float64','int64']) # creating df with numeric features only\n",
        "plt.figure(figsize=(20, 10)) # size of the figure\n",
        "sns.pairplot(cars_numeric) \n",
        "#plt.savefig('corr.png') # To save the plot.\n",
        "#files.download('corr.png') # To download the plot to your computer."
      ],
      "execution_count": null,
      "outputs": [
        {
          "output_type": "execute_result",
          "data": {
            "text/plain": [
              "<seaborn.axisgrid.PairGrid at 0x7f4efe445d90>"
            ]
          },
          "metadata": {},
          "execution_count": 533
        },
        {
          "output_type": "display_data",
          "data": {
            "text/plain": [
              "<Figure size 1440x720 with 0 Axes>"
            ]
          },
          "metadata": {}
        },
        {
          "output_type": "display_data",
          "data": {
            "image/png": "[encoded data removed]",
            "text/plain": [
              "<Figure size 900x900 with 30 Axes>"
            ]
          },
          "metadata": {
            "needs_background": "light"
          }
        }
      ]
    },
    {
      "cell_type": "markdown",
      "metadata": {
        "id": "g2khNVeCRiYm"
      },
      "source": [
        "Before we begin modeling, use the `corr()` function to get a feel for the correlations among the different variables, especially with regard to 'price'."
      ]
    },
    {
      "cell_type": "code",
      "metadata": {
        "colab": {
          "base_uri": "https://localhost:8080/"
        },
        "id": "jNzrJ8cgsctd",
        "outputId": "89a52c45-67e8-438f-d3fd-ced7ffc39d62"
      },
      "source": [
        "df.corr()['PRICE'].sort_values(ascending=False)"
      ],
      "execution_count": null,
      "outputs": [
        {
          "output_type": "execute_result",
          "data": {
            "text/plain": [
              "PRICE            1.000000\n",
              "MODEL            0.795848\n",
              "NO_OF_REVIEWS    0.109435\n",
              "RATE             0.012201\n",
              "MILES_DRIVEN    -0.699530\n",
              "Name: PRICE, dtype: float64"
            ]
          },
          "metadata": {},
          "execution_count": 534
        }
      ]
    },
    {
      "cell_type": "code",
      "metadata": {
        "colab": {
          "base_uri": "https://localhost:8080/",
          "height": 512
        },
        "id": "lVGwvHxlSWM7",
        "outputId": "eb3dfc4f-028f-4ac5-8775-6919e32f1a2e"
      },
      "source": [
        "corr=df.corr()\n",
        "\n",
        "plt.figure(figsize=(15,8))\n",
        "plt.title(\"Heat map for Correlation matrix\", fontname=\"Times New Roman\", size=28, fontweight=\"bold\")\n",
        "sns.heatmap(corr,annot=True,cmap=\"YlGnBu\")\n",
        "#plt.savefig('heat.png') # To save the plot.\n",
        "#files.download('heat.png') # To download the plot to your computer."
      ],
      "execution_count": null,
      "outputs": [
        {
          "output_type": "display_data",
          "data": {
            "application/javascript": [
              "\n",
              "    async function download(id, filename, size) {\n",
              "      if (!google.colab.kernel.accessAllowed) {\n",
              "        return;\n",
              "      }\n",
              "      const div = document.createElement('div');\n",
              "      const label = document.createElement('label');\n",
              "      label.textContent = `Downloading \"${filename}\": `;\n",
              "      div.appendChild(label);\n",
              "      const progress = document.createElement('progress');\n",
              "      progress.max = size;\n",
              "      div.appendChild(progress);\n",
              "      document.body.appendChild(div);\n",
              "\n",
              "      const buffers = [];\n",
              "      let downloaded = 0;\n",
              "\n",
              "      const channel = await google.colab.kernel.comms.open(id);\n",
              "      // Send a message to notify the kernel that we're ready.\n",
              "      channel.send({})\n",
              "\n",
              "      for await (const message of channel.messages) {\n",
              "        // Send a message to notify the kernel that we're ready.\n",
              "        channel.send({})\n",
              "        if (message.buffers) {\n",
              "          for (const buffer of message.buffers) {\n",
              "            buffers.push(buffer);\n",
              "            downloaded += buffer.byteLength;\n",
              "            progress.value = downloaded;\n",
              "          }\n",
              "        }\n",
              "      }\n",
              "      const blob = new Blob(buffers, {type: 'application/binary'});\n",
              "      const a = document.createElement('a');\n",
              "      a.href = window.URL.createObjectURL(blob);\n",
              "      a.download = filename;\n",
              "      div.appendChild(a);\n",
              "      a.click();\n",
              "      div.remove();\n",
              "    }\n",
              "  "
            ],
            "text/plain": [
              "<IPython.core.display.Javascript object>"
            ]
          },
          "metadata": {}
        },
        {
          "output_type": "display_data",
          "data": {
            "application/javascript": [
              "download(\"download_81c90f09-0b03-437b-bcd1-46c0a7b9b8a3\", \"heat.png\", 34557)"
            ],
            "text/plain": [
              "<IPython.core.display.Javascript object>"
            ]
          },
          "metadata": {}
        },
        {
          "output_type": "display_data",
          "data": {
            "image/png": "[encoded data removed]",
            "text/plain": [
              "<Figure size 1080x576 with 2 Axes>"
            ]
          },
          "metadata": {
            "needs_background": "light"
          }
        }
      ]
    },
    {
      "cell_type": "markdown",
      "metadata": {
        "id": "7RGOjgkNWpPX"
      },
      "source": [
        "check if there outliers in price featurs"
      ]
    },
    {
      "cell_type": "markdown",
      "metadata": {
        "id": "47m_5MOkWsX2"
      },
      "source": [
        "Box Plot to detect the outliers in each feature"
      ]
    },
    {
      "cell_type": "code",
      "metadata": {
        "colab": {
          "base_uri": "https://localhost:8080/",
          "height": 281
        },
        "id": "XtDxCOsfXF34",
        "outputId": "46837bc9-0ef5-43bf-c1ba-19f1f6e6b297"
      },
      "source": [
        "plt.boxplot(df[\"PRICE\"])\n",
        "plt.title(\"Box plot to detect the outliers in PRICE\")\n",
        "plt.show()"
      ],
      "execution_count": null,
      "outputs": [
        {
          "output_type": "display_data",
          "data": {
            "image/png": "[encoded data removed]",
            "text/plain": [
              "<Figure size 432x288 with 1 Axes>"
            ]
          },
          "metadata": {
            "needs_background": "light"
          }
        }
      ]
    },
    {
      "cell_type": "markdown",
      "metadata": {
        "id": "1N3361bJT55d"
      },
      "source": [
        "# **Feature engineering**"
      ]
    },
    {
      "cell_type": "markdown",
      "metadata": {
        "id": "iSSBNpd7UFJG"
      },
      "source": [
        "Creating dummy variables for categorical variables"
      ]
    },
    {
      "cell_type": "code",
      "metadata": {
        "colab": {
          "base_uri": "https://localhost:8080/"
        },
        "id": "b7w8F79_Ui4o",
        "outputId": "5ddd48fe-a7f3-400e-b2d4-3be4b708b1cf"
      },
      "source": [
        "dealer_counts = df.DEALER.value_counts() # drop this coulmn because it contains about 153 feature which is a looooooot \n",
        "dealer_counts\n"
      ],
      "execution_count": null,
      "outputs": [
        {
          "output_type": "execute_result",
          "data": {
            "text/plain": [
              "North City Honda                22\n",
              "Schaumburg Honda Automobiles    18\n",
              "Muller Honda                    17\n",
              "McGrath City Honda              16\n",
              "Continental Honda               15\n",
              "                                ..\n",
              "Nexton Motors LLC                1\n",
              "Volkswagen of Mount Prospect     1\n",
              "Roesch Ford                      1\n",
              "Glenview Luxury Imports          1\n",
              "Midway Autohaus                  1\n",
              "Name: DEALER, Length: 154, dtype: int64"
            ]
          },
          "metadata": {},
          "execution_count": 537
        }
      ]
    },
    {
      "cell_type": "code",
      "metadata": {
        "id": "7VjrrN0gVETA"
      },
      "source": [
        "df=df.drop(columns=['DEALER'])"
      ],
      "execution_count": null,
      "outputs": []
    },
    {
      "cell_type": "code",
      "metadata": {
        "colab": {
          "base_uri": "https://localhost:8080/"
        },
        "id": "Jf4vI2qPXfDP",
        "outputId": "a79d1388-d1fc-4a56-de03-9d91970b836f"
      },
      "source": [
        "name_counts = df.CAR_NAME.value_counts() # convert to dummies for features contain 12 variables and more and the others is renamed to others thus will have about 8 features + 6 features and a total of 14 feature \n",
        "name_counts"
      ],
      "execution_count": null,
      "outputs": [
        {
          "output_type": "execute_result",
          "data": {
            "text/plain": [
              "Honda Odyssey EX-L      33\n",
              "Honda Pilot EX-L        31\n",
              "Honda Accord EX-L       31\n",
              "Honda Civic LX          29\n",
              "Honda CR-V EX           24\n",
              "                        ..\n",
              "Honda Fit                1\n",
              "Honda Accord EX-L V6     1\n",
              "Honda CR-V               1\n",
              "Honda Accord             1\n",
              "Honda Odyssey            1\n",
              "Name: CAR_NAME, Length: 64, dtype: int64"
            ]
          },
          "metadata": {},
          "execution_count": 539
        }
      ]
    },
    {
      "cell_type": "code",
      "metadata": {
        "id": "ve1ldLTRVXs8"
      },
      "source": [
        "other_name = list(name_counts[name_counts < 25].index) # \"return the indcies for the DEALER counts less than 3\"\n",
        "df['CAR_NAME'] = df['CAR_NAME'].replace(other_name, 'Other')\n",
        "\n",
        "\n",
        "df= pd.get_dummies(df, drop_first=True)"
      ],
      "execution_count": null,
      "outputs": []
    },
    {
      "cell_type": "code",
      "metadata": {
        "colab": {
          "base_uri": "https://localhost:8080/",
          "height": 418
        },
        "id": "leO_mBBMTfyI",
        "outputId": "eece0c36-7305-4f22-f411-68ee4c2d0b68"
      },
      "source": [
        "df"
      ],
      "execution_count": null,
      "outputs": [
        {
          "output_type": "execute_result",
          "data": {
            "text/html": [
              "<div>\n",
              "<style scoped>\n",
              "    .dataframe tbody tr th:only-of-type {\n",
              "        vertical-align: middle;\n",
              "    }\n",
              "\n",
              "    .dataframe tbody tr th {\n",
              "        vertical-align: top;\n",
              "    }\n",
              "\n",
              "    .dataframe thead th {\n",
              "        text-align: right;\n",
              "    }\n",
              "</style>\n",
              "<table border=\"1\" class=\"dataframe\">\n",
              "  <thead>\n",
              "    <tr style=\"text-align: right;\">\n",
              "      <th></th>\n",
              "      <th>MODEL</th>\n",
              "      <th>MILES_DRIVEN</th>\n",
              "      <th>RATE</th>\n",
              "      <th>NO_OF_REVIEWS</th>\n",
              "      <th>PRICE</th>\n",
              "      <th>CAR_NAME_Honda Civic LX</th>\n",
              "      <th>CAR_NAME_Honda Odyssey EX-L</th>\n",
              "      <th>CAR_NAME_Honda Pilot EX-L</th>\n",
              "      <th>CAR_NAME_Other</th>\n",
              "    </tr>\n",
              "  </thead>\n",
              "  <tbody>\n",
              "    <tr>\n",
              "      <th>0</th>\n",
              "      <td>2016</td>\n",
              "      <td>46994.0</td>\n",
              "      <td>4.0</td>\n",
              "      <td>67</td>\n",
              "      <td>22665.0</td>\n",
              "      <td>0</td>\n",
              "      <td>0</td>\n",
              "      <td>0</td>\n",
              "      <td>1</td>\n",
              "    </tr>\n",
              "    <tr>\n",
              "      <th>1</th>\n",
              "      <td>2012</td>\n",
              "      <td>94493.0</td>\n",
              "      <td>4.7</td>\n",
              "      <td>263</td>\n",
              "      <td>15574.0</td>\n",
              "      <td>0</td>\n",
              "      <td>0</td>\n",
              "      <td>0</td>\n",
              "      <td>1</td>\n",
              "    </tr>\n",
              "    <tr>\n",
              "      <th>2</th>\n",
              "      <td>2018</td>\n",
              "      <td>19944.0</td>\n",
              "      <td>4.0</td>\n",
              "      <td>67</td>\n",
              "      <td>28000.0</td>\n",
              "      <td>0</td>\n",
              "      <td>0</td>\n",
              "      <td>0</td>\n",
              "      <td>1</td>\n",
              "    </tr>\n",
              "    <tr>\n",
              "      <th>3</th>\n",
              "      <td>2020</td>\n",
              "      <td>11936.0</td>\n",
              "      <td>4.0</td>\n",
              "      <td>67</td>\n",
              "      <td>28844.0</td>\n",
              "      <td>0</td>\n",
              "      <td>0</td>\n",
              "      <td>0</td>\n",
              "      <td>1</td>\n",
              "    </tr>\n",
              "    <tr>\n",
              "      <th>4</th>\n",
              "      <td>2017</td>\n",
              "      <td>41768.0</td>\n",
              "      <td>4.0</td>\n",
              "      <td>67</td>\n",
              "      <td>20000.0</td>\n",
              "      <td>1</td>\n",
              "      <td>0</td>\n",
              "      <td>0</td>\n",
              "      <td>0</td>\n",
              "    </tr>\n",
              "    <tr>\n",
              "      <th>...</th>\n",
              "      <td>...</td>\n",
              "      <td>...</td>\n",
              "      <td>...</td>\n",
              "      <td>...</td>\n",
              "      <td>...</td>\n",
              "      <td>...</td>\n",
              "      <td>...</td>\n",
              "      <td>...</td>\n",
              "      <td>...</td>\n",
              "    </tr>\n",
              "    <tr>\n",
              "      <th>394</th>\n",
              "      <td>2008</td>\n",
              "      <td>99055.0</td>\n",
              "      <td>4.7</td>\n",
              "      <td>126</td>\n",
              "      <td>12900.0</td>\n",
              "      <td>0</td>\n",
              "      <td>0</td>\n",
              "      <td>0</td>\n",
              "      <td>1</td>\n",
              "    </tr>\n",
              "    <tr>\n",
              "      <th>395</th>\n",
              "      <td>2006</td>\n",
              "      <td>128470.0</td>\n",
              "      <td>4.6</td>\n",
              "      <td>98</td>\n",
              "      <td>7491.0</td>\n",
              "      <td>0</td>\n",
              "      <td>0</td>\n",
              "      <td>0</td>\n",
              "      <td>1</td>\n",
              "    </tr>\n",
              "    <tr>\n",
              "      <th>396</th>\n",
              "      <td>2011</td>\n",
              "      <td>114317.0</td>\n",
              "      <td>3.7</td>\n",
              "      <td>6162</td>\n",
              "      <td>12995.0</td>\n",
              "      <td>0</td>\n",
              "      <td>0</td>\n",
              "      <td>0</td>\n",
              "      <td>1</td>\n",
              "    </tr>\n",
              "    <tr>\n",
              "      <th>397</th>\n",
              "      <td>2020</td>\n",
              "      <td>10097.0</td>\n",
              "      <td>2.1</td>\n",
              "      <td>8</td>\n",
              "      <td>37999.0</td>\n",
              "      <td>0</td>\n",
              "      <td>0</td>\n",
              "      <td>0</td>\n",
              "      <td>1</td>\n",
              "    </tr>\n",
              "    <tr>\n",
              "      <th>398</th>\n",
              "      <td>2020</td>\n",
              "      <td>11557.0</td>\n",
              "      <td>4.7</td>\n",
              "      <td>607</td>\n",
              "      <td>24998.0</td>\n",
              "      <td>0</td>\n",
              "      <td>0</td>\n",
              "      <td>0</td>\n",
              "      <td>1</td>\n",
              "    </tr>\n",
              "  </tbody>\n",
              "</table>\n",
              "<p>399 rows × 9 columns</p>\n",
              "</div>"
            ],
            "text/plain": [
              "     MODEL  MILES_DRIVEN  ...  CAR_NAME_Honda Pilot EX-L  CAR_NAME_Other\n",
              "0     2016       46994.0  ...                          0               1\n",
              "1     2012       94493.0  ...                          0               1\n",
              "2     2018       19944.0  ...                          0               1\n",
              "3     2020       11936.0  ...                          0               1\n",
              "4     2017       41768.0  ...                          0               0\n",
              "..     ...           ...  ...                        ...             ...\n",
              "394   2008       99055.0  ...                          0               1\n",
              "395   2006      128470.0  ...                          0               1\n",
              "396   2011      114317.0  ...                          0               1\n",
              "397   2020       10097.0  ...                          0               1\n",
              "398   2020       11557.0  ...                          0               1\n",
              "\n",
              "[399 rows x 9 columns]"
            ]
          },
          "metadata": {},
          "execution_count": 541
        }
      ]
    },
    {
      "cell_type": "code",
      "metadata": {
        "colab": {
          "base_uri": "https://localhost:8080/"
        },
        "id": "neNcsZQmWy17",
        "outputId": "946bca91-483b-4091-d242-ae3eae37d424"
      },
      "source": [
        "df.columns"
      ],
      "execution_count": null,
      "outputs": [
        {
          "output_type": "execute_result",
          "data": {
            "text/plain": [
              "Index(['MODEL', 'MILES_DRIVEN', 'RATE', 'NO_OF_REVIEWS', 'PRICE',\n",
              "       'CAR_NAME_Honda Civic LX', 'CAR_NAME_Honda Odyssey EX-L',\n",
              "       'CAR_NAME_Honda Pilot EX-L', 'CAR_NAME_Other'],\n",
              "      dtype='object')"
            ]
          },
          "metadata": {},
          "execution_count": 542
        }
      ]
    },
    {
      "cell_type": "markdown",
      "metadata": {
        "id": "I61qO1tBUD8l"
      },
      "source": [
        "Split data into train and test"
      ]
    },
    {
      "cell_type": "code",
      "metadata": {
        "id": "_aNL9M2KO5GH"
      },
      "source": [
        "X=df.drop(columns=['PRICE'])"
      ],
      "execution_count": null,
      "outputs": []
    },
    {
      "cell_type": "code",
      "metadata": {
        "id": "_yAmShkMTSVn"
      },
      "source": [
        "np.random.seed(10)\n",
        "y=df['PRICE']\n",
        "df_train,df_test=train_test_split(df,train_size=0.75,random_state=42)"
      ],
      "execution_count": null,
      "outputs": []
    },
    {
      "cell_type": "code",
      "metadata": {
        "id": "N90toCopO5GI"
      },
      "source": [
        "df_train2, df_val = train_test_split(df_train, test_size=0.25, random_state=3)"
      ],
      "execution_count": null,
      "outputs": []
    },
    {
      "cell_type": "markdown",
      "metadata": {
        "id": "5hoN8GZtQlFt"
      },
      "source": [
        "**Scaling**"
      ]
    },
    {
      "cell_type": "markdown",
      "metadata": {
        "id": "DcqtnswUQn0O"
      },
      "source": [
        "scaling the features makes interpretation of regression coefficients easier"
      ]
    },
    {
      "cell_type": "code",
      "metadata": {
        "colab": {
          "base_uri": "https://localhost:8080/"
        },
        "id": "41HV82aIO5GJ",
        "outputId": "dd78a358-6b22-405b-9f54-4a1a58a62c9a"
      },
      "source": [
        "scaler = StandardScaler()\n",
        "df_train2[df.columns]=scaler.fit_transform(df_train2[df.columns])\n",
        "df_val[df.columns]=scaler.transform(df_val[df.columns])\n",
        "df_test[df.columns]=scaler.transform(df_test[df.columns])\n",
        "\n",
        "X_train=df_train2.drop('PRICE',axis=1)\n",
        "y_train=df_train2['PRICE']\n",
        "X_val=df_val.drop('PRICE',axis=1)\n",
        "y_val=df_val['PRICE']\n",
        "X_test=df_test.drop('PRICE',axis=1)\n",
        "y_test=df_test['PRICE']"
      ],
      "execution_count": null,
      "outputs": [
        {
          "output_type": "stream",
          "name": "stderr",
          "text": [
            "/usr/local/lib/python3.7/dist-packages/ipykernel_launcher.py:2: SettingWithCopyWarning: \n",
            "A value is trying to be set on a copy of a slice from a DataFrame.\n",
            "Try using .loc[row_indexer,col_indexer] = value instead\n",
            "\n",
            "See the caveats in the documentation: https://pandas.pydata.org/pandas-docs/stable/user_guide/indexing.html#returning-a-view-versus-a-copy\n",
            "  \n",
            "/usr/local/lib/python3.7/dist-packages/pandas/core/indexing.py:1734: SettingWithCopyWarning: \n",
            "A value is trying to be set on a copy of a slice from a DataFrame.\n",
            "Try using .loc[row_indexer,col_indexer] = value instead\n",
            "\n",
            "See the caveats in the documentation: https://pandas.pydata.org/pandas-docs/stable/user_guide/indexing.html#returning-a-view-versus-a-copy\n",
            "  isetter(loc, value[:, i].tolist())\n",
            "/usr/local/lib/python3.7/dist-packages/ipykernel_launcher.py:3: SettingWithCopyWarning: \n",
            "A value is trying to be set on a copy of a slice from a DataFrame.\n",
            "Try using .loc[row_indexer,col_indexer] = value instead\n",
            "\n",
            "See the caveats in the documentation: https://pandas.pydata.org/pandas-docs/stable/user_guide/indexing.html#returning-a-view-versus-a-copy\n",
            "  This is separate from the ipykernel package so we can avoid doing imports until\n",
            "/usr/local/lib/python3.7/dist-packages/pandas/core/indexing.py:1734: SettingWithCopyWarning: \n",
            "A value is trying to be set on a copy of a slice from a DataFrame.\n",
            "Try using .loc[row_indexer,col_indexer] = value instead\n",
            "\n",
            "See the caveats in the documentation: https://pandas.pydata.org/pandas-docs/stable/user_guide/indexing.html#returning-a-view-versus-a-copy\n",
            "  isetter(loc, value[:, i].tolist())\n",
            "/usr/local/lib/python3.7/dist-packages/ipykernel_launcher.py:4: SettingWithCopyWarning: \n",
            "A value is trying to be set on a copy of a slice from a DataFrame.\n",
            "Try using .loc[row_indexer,col_indexer] = value instead\n",
            "\n",
            "See the caveats in the documentation: https://pandas.pydata.org/pandas-docs/stable/user_guide/indexing.html#returning-a-view-versus-a-copy\n",
            "  after removing the cwd from sys.path.\n",
            "/usr/local/lib/python3.7/dist-packages/pandas/core/indexing.py:1734: SettingWithCopyWarning: \n",
            "A value is trying to be set on a copy of a slice from a DataFrame.\n",
            "Try using .loc[row_indexer,col_indexer] = value instead\n",
            "\n",
            "See the caveats in the documentation: https://pandas.pydata.org/pandas-docs/stable/user_guide/indexing.html#returning-a-view-versus-a-copy\n",
            "  isetter(loc, value[:, i].tolist())\n"
          ]
        }
      ]
    },
    {
      "cell_type": "markdown",
      "metadata": {
        "id": "XXD8OVBWS3c_"
      },
      "source": [
        "Show the length of the (X_train, X_test, y_train and y_test) to verify that the process of splitting the data was done correctly."
      ]
    },
    {
      "cell_type": "code",
      "metadata": {
        "colab": {
          "base_uri": "https://localhost:8080/"
        },
        "id": "LIWL64V6SQUE",
        "outputId": "1d33a6e6-a599-478c-a01c-fb03dc4ba4bb"
      },
      "source": [
        "print(\"Length of the X_train = \",len(X_train))\n",
        "print(\"Length of the y_train = \",len(y_train))\n",
        "print(\"Length of the X_test = \",len(X_test))\n",
        "print(\"Length of the y_test = \",len(y_test))\n",
        "print(\"Length of the y_val = \",len(y_val))\n",
        "print(\"Length of the y_val = \",len(y_val))"
      ],
      "execution_count": null,
      "outputs": [
        {
          "output_type": "stream",
          "name": "stdout",
          "text": [
            "Length of the X_train =  224\n",
            "Length of the y_train =  224\n",
            "Length of the X_test =  100\n",
            "Length of the y_test =  100\n",
            "Length of the y_val =  75\n",
            "Length of the y_val =  75\n"
          ]
        }
      ]
    },
    {
      "cell_type": "markdown",
      "metadata": {
        "id": "rpk7dowvVC8K"
      },
      "source": [
        "# **Model Building**"
      ]
    },
    {
      "cell_type": "markdown",
      "metadata": {
        "id": "UEdvzv5VX2gl"
      },
      "source": [
        "Model with all features"
      ]
    },
    {
      "cell_type": "code",
      "metadata": {
        "colab": {
          "base_uri": "https://localhost:8080/"
        },
        "id": "YOwBwQdMUYAc",
        "outputId": "343465b1-8542-4072-8057-3d60e4ff340a"
      },
      "source": [
        "seed=12\n",
        "lm=LinearRegression()\n",
        "lm1= lm.fit(X_train,y_train)\n",
        "y_pred_val=lm1.predict(X_val)\n",
        "y_pred_train=lm1.predict(X_train)\n",
        "y_pred_test=lm1.predict(X_test)\n",
        "print(\"Score of training set = \",lm1.score(X_train,y_train))"
      ],
      "execution_count": null,
      "outputs": [
        {
          "output_type": "stream",
          "name": "stdout",
          "text": [
            "Score of training set =  0.7552366387365006\n"
          ]
        }
      ]
    },
    {
      "cell_type": "code",
      "metadata": {
        "colab": {
          "base_uri": "https://localhost:8080/"
        },
        "id": "FvwjJ7OHO5GL",
        "outputId": "bff7b044-93eb-4da7-fac9-6e85c82ec9f9"
      },
      "source": [
        "print(\"Score of validation set = \",lm1.score(X_val,y_val))"
      ],
      "execution_count": null,
      "outputs": [
        {
          "output_type": "stream",
          "name": "stdout",
          "text": [
            "Score of validation set =  0.5839517618135261\n"
          ]
        }
      ]
    },
    {
      "cell_type": "code",
      "metadata": {
        "colab": {
          "base_uri": "https://localhost:8080/"
        },
        "id": "yAvPQohOO5GL",
        "outputId": "05516d5c-5cdc-4157-e6d3-799f3f7cca88"
      },
      "source": [
        "print(\"Score of test set = \",lm1.score(X_test,y_test))"
      ],
      "execution_count": null,
      "outputs": [
        {
          "output_type": "stream",
          "name": "stdout",
          "text": [
            "Score of test set =  0.7465804203840658\n"
          ]
        }
      ]
    },
    {
      "cell_type": "code",
      "metadata": {
        "colab": {
          "base_uri": "https://localhost:8080/"
        },
        "id": "PuKG8SerO5GM",
        "outputId": "beff0136-e736-4bbb-8d61-6361a8fb72bc"
      },
      "source": [
        "y_pred_train.shape "
      ],
      "execution_count": null,
      "outputs": [
        {
          "output_type": "execute_result",
          "data": {
            "text/plain": [
              "(224,)"
            ]
          },
          "metadata": {},
          "execution_count": 551
        }
      ]
    },
    {
      "cell_type": "code",
      "metadata": {
        "colab": {
          "base_uri": "https://localhost:8080/"
        },
        "id": "4HDoKRyiO5GM",
        "outputId": "4f4f22be-18b1-43ff-c4f7-a088827c83b0"
      },
      "source": [
        "y_train.shape"
      ],
      "execution_count": null,
      "outputs": [
        {
          "output_type": "execute_result",
          "data": {
            "text/plain": [
              "(224,)"
            ]
          },
          "metadata": {},
          "execution_count": 552
        }
      ]
    },
    {
      "cell_type": "code",
      "metadata": {
        "colab": {
          "base_uri": "https://localhost:8080/"
        },
        "id": "xXMqkzdSO5GM",
        "outputId": "802aaddc-d9f3-443f-e8e1-94c8a7f470c8"
      },
      "source": [
        "X_train.shape "
      ],
      "execution_count": null,
      "outputs": [
        {
          "output_type": "execute_result",
          "data": {
            "text/plain": [
              "(224, 8)"
            ]
          },
          "metadata": {},
          "execution_count": 553
        }
      ]
    },
    {
      "cell_type": "code",
      "metadata": {
        "colab": {
          "base_uri": "https://localhost:8080/"
        },
        "id": "WvbRT4f4O5GN",
        "outputId": "59cdd6c5-f8f5-4fd3-9fd4-9cbbd4faf1cd"
      },
      "source": [
        "X_val.shape"
      ],
      "execution_count": null,
      "outputs": [
        {
          "output_type": "execute_result",
          "data": {
            "text/plain": [
              "(75, 8)"
            ]
          },
          "metadata": {},
          "execution_count": 554
        }
      ]
    },
    {
      "cell_type": "code",
      "metadata": {
        "colab": {
          "base_uri": "https://localhost:8080/"
        },
        "id": "TFBciR2FO5GN",
        "outputId": "945b357e-7cc7-4533-82e4-f40d1dff02ae"
      },
      "source": [
        "y_val.shape"
      ],
      "execution_count": null,
      "outputs": [
        {
          "output_type": "execute_result",
          "data": {
            "text/plain": [
              "(75,)"
            ]
          },
          "metadata": {},
          "execution_count": 555
        }
      ]
    },
    {
      "cell_type": "markdown",
      "metadata": {
        "id": "mzfnN5dbO5GN"
      },
      "source": [
        "Train data "
      ]
    },
    {
      "cell_type": "code",
      "metadata": {
        "colab": {
          "base_uri": "https://localhost:8080/"
        },
        "id": "ID8M9CVRO5GN",
        "outputId": "ff6c5485-8697-4d37-b549-4a5b29d8ff60"
      },
      "source": [
        "def SSE(actuals, preds):\n",
        "    return np.sum((actuals - preds)**2)\n",
        "\n",
        "SSE(y_pred_train,y_train)"
      ],
      "execution_count": null,
      "outputs": [
        {
          "output_type": "execute_result",
          "data": {
            "text/plain": [
              "54.82699292302388"
            ]
          },
          "metadata": {},
          "execution_count": 556
        }
      ]
    },
    {
      "cell_type": "code",
      "metadata": {
        "colab": {
          "base_uri": "https://localhost:8080/"
        },
        "id": "_2r5jfp6O5GO",
        "outputId": "84cc1ab5-e3bc-4104-bc8b-d9de69f3cc3b"
      },
      "source": [
        "def RMSE(actuals, preds): #root mean squared error\n",
        "    return np.sqrt(np.mean((actuals - preds)**2))\n",
        "\n",
        "RMSE(y_pred_train,y_train)"
      ],
      "execution_count": null,
      "outputs": [
        {
          "output_type": "execute_result",
          "data": {
            "text/plain": [
              "0.494735647860046"
            ]
          },
          "metadata": {},
          "execution_count": 461
        }
      ]
    },
    {
      "cell_type": "code",
      "metadata": {
        "colab": {
          "base_uri": "https://localhost:8080/"
        },
        "id": "AX7dAMOLO5GO",
        "outputId": "8bf94647-8f03-4645-e705-0a1fefef1644"
      },
      "source": [
        "def MAE(actuals, preds): #mean absolute error\n",
        "    return np.mean(np.abs(actuals-preds))\n",
        "\n",
        "MAE(y_pred_train,y_train)"
      ],
      "execution_count": null,
      "outputs": [
        {
          "output_type": "execute_result",
          "data": {
            "text/plain": [
              "0.37177383678679066"
            ]
          },
          "metadata": {},
          "execution_count": 462
        }
      ]
    },
    {
      "cell_type": "code",
      "metadata": {
        "id": "-AJARbdkO5GO"
      },
      "source": [
        "def SST(y):\n",
        "    return np.sum((y - np.mean(y))**2)"
      ],
      "execution_count": null,
      "outputs": []
    },
    {
      "cell_type": "code",
      "metadata": {
        "colab": {
          "base_uri": "https://localhost:8080/"
        },
        "id": "WKjK9DDJO5GP",
        "outputId": "1449416f-7017-4db7-c41d-eb23531b0ef2"
      },
      "source": [
        "def R2(actuals, preds):\n",
        "    return 1 - SSE(actuals, preds) / SST(actuals)\n",
        "\n",
        "R2(y_pred_train,y_train)"
      ],
      "execution_count": null,
      "outputs": [
        {
          "output_type": "execute_result",
          "data": {
            "text/plain": [
              "0.6759116961367436"
            ]
          },
          "metadata": {},
          "execution_count": 464
        }
      ]
    },
    {
      "cell_type": "markdown",
      "metadata": {
        "id": "gaBuqI4MO5GP"
      },
      "source": [
        "validation data "
      ]
    },
    {
      "cell_type": "code",
      "metadata": {
        "colab": {
          "base_uri": "https://localhost:8080/"
        },
        "id": "ChoIehrWO5GP",
        "outputId": "074b8805-ae23-4b9e-9c84-c3bf352fd27d"
      },
      "source": [
        "def SSE(actuals, preds):\n",
        "    return np.sum((actuals - preds)**2)\n",
        "\n",
        "SSE(y_pred_val,y_val)"
      ],
      "execution_count": null,
      "outputs": [
        {
          "output_type": "execute_result",
          "data": {
            "text/plain": [
              "19.079788281188943"
            ]
          },
          "metadata": {},
          "execution_count": 465
        }
      ]
    },
    {
      "cell_type": "code",
      "metadata": {
        "colab": {
          "base_uri": "https://localhost:8080/"
        },
        "id": "pi_J18I-O5GQ",
        "outputId": "1e796dcf-f22c-4aaa-e7a4-1fef46944753"
      },
      "source": [
        "def RMSE(actuals, preds): #root mean squared error\n",
        "    return np.sqrt(np.mean((actuals - preds)**2))\n",
        "\n",
        "RMSE(y_pred_val,y_val)"
      ],
      "execution_count": null,
      "outputs": [
        {
          "output_type": "execute_result",
          "data": {
            "text/plain": [
              "0.5043780101099962"
            ]
          },
          "metadata": {},
          "execution_count": 466
        }
      ]
    },
    {
      "cell_type": "code",
      "metadata": {
        "colab": {
          "base_uri": "https://localhost:8080/"
        },
        "id": "nc2Gs_N5O5GQ",
        "outputId": "13214903-d275-470b-aaee-458f8842d9b4"
      },
      "source": [
        "def MAE(actuals, preds): #mean absolute error\n",
        "    return np.mean(np.abs(actuals-preds))\n",
        "\n",
        "MAE(y_pred_val,y_val)"
      ],
      "execution_count": null,
      "outputs": [
        {
          "output_type": "execute_result",
          "data": {
            "text/plain": [
              "0.38558590471546156"
            ]
          },
          "metadata": {},
          "execution_count": 467
        }
      ]
    },
    {
      "cell_type": "code",
      "metadata": {
        "colab": {
          "base_uri": "https://localhost:8080/"
        },
        "id": "kFRGOpVNO5GQ",
        "outputId": "400d2f9a-84b7-40af-d207-3ee559a4c300"
      },
      "source": [
        "def SST(y):\n",
        "    return np.sum((y - np.mean(y))**2)\n",
        "def R2(actuals, preds):\n",
        "    return 1 - SSE(actuals, preds) / SST(actuals)\n",
        "\n",
        "R2(y_pred_val,y_val)"
      ],
      "execution_count": null,
      "outputs": [
        {
          "output_type": "execute_result",
          "data": {
            "text/plain": [
              "0.5402671789893949"
            ]
          },
          "metadata": {},
          "execution_count": 468
        }
      ]
    },
    {
      "cell_type": "code",
      "metadata": {
        "colab": {
          "base_uri": "https://localhost:8080/",
          "height": 417
        },
        "id": "xG6VVySq2U4c",
        "outputId": "b950bf72-f652-4b2e-87ba-f7f99ec7d995"
      },
      "source": [
        "results = sm.OLS(y_pred_train, y_train).fit()\n",
        "results.summary()"
      ],
      "execution_count": null,
      "outputs": [
        {
          "output_type": "execute_result",
          "data": {
            "text/html": [
              "<table class=\"simpletable\">\n",
              "<caption>OLS Regression Results</caption>\n",
              "<tr>\n",
              "  <th>Dep. Variable:</th>            <td>y</td>        <th>  R-squared (uncentered):</th>      <td>   0.755</td>\n",
              "</tr>\n",
              "<tr>\n",
              "  <th>Model:</th>                   <td>OLS</td>       <th>  Adj. R-squared (uncentered):</th> <td>   0.754</td>\n",
              "</tr>\n",
              "<tr>\n",
              "  <th>Method:</th>             <td>Least Squares</td>  <th>  F-statistic:       </th>          <td>   688.1</td>\n",
              "</tr>\n",
              "<tr>\n",
              "  <th>Date:</th>             <td>Sat, 25 Sep 2021</td> <th>  Prob (F-statistic):</th>          <td>4.29e-70</td>\n",
              "</tr>\n",
              "<tr>\n",
              "  <th>Time:</th>                 <td>19:15:51</td>     <th>  Log-Likelihood:    </th>          <td> -128.77</td>\n",
              "</tr>\n",
              "<tr>\n",
              "  <th>No. Observations:</th>      <td>   224</td>      <th>  AIC:               </th>          <td>   259.5</td>\n",
              "</tr>\n",
              "<tr>\n",
              "  <th>Df Residuals:</th>          <td>   223</td>      <th>  BIC:               </th>          <td>   262.9</td>\n",
              "</tr>\n",
              "<tr>\n",
              "  <th>Df Model:</th>              <td>     1</td>      <th>                     </th>              <td> </td>   \n",
              "</tr>\n",
              "<tr>\n",
              "  <th>Covariance Type:</th>      <td>nonrobust</td>    <th>                     </th>              <td> </td>   \n",
              "</tr>\n",
              "</table>\n",
              "<table class=\"simpletable\">\n",
              "<tr>\n",
              "    <td></td>       <th>coef</th>     <th>std err</th>      <th>t</th>      <th>P>|t|</th>  <th>[0.025</th>    <th>0.975]</th>  \n",
              "</tr>\n",
              "<tr>\n",
              "  <th>PRICE</th> <td>    0.7552</td> <td>    0.029</td> <td>   26.231</td> <td> 0.000</td> <td>    0.698</td> <td>    0.812</td>\n",
              "</tr>\n",
              "</table>\n",
              "<table class=\"simpletable\">\n",
              "<tr>\n",
              "  <th>Omnibus:</th>       <td> 7.983</td> <th>  Durbin-Watson:     </th> <td>   2.036</td>\n",
              "</tr>\n",
              "<tr>\n",
              "  <th>Prob(Omnibus):</th> <td> 0.018</td> <th>  Jarque-Bera (JB):  </th> <td>   6.421</td>\n",
              "</tr>\n",
              "<tr>\n",
              "  <th>Skew:</th>          <td>-0.318</td> <th>  Prob(JB):          </th> <td>  0.0403</td>\n",
              "</tr>\n",
              "<tr>\n",
              "  <th>Kurtosis:</th>      <td> 2.469</td> <th>  Cond. No.          </th> <td>    1.00</td>\n",
              "</tr>\n",
              "</table><br/><br/>Warnings:<br/>[1] Standard Errors assume that the covariance matrix of the errors is correctly specified."
            ],
            "text/plain": [
              "<class 'statsmodels.iolib.summary.Summary'>\n",
              "\"\"\"\n",
              "                                 OLS Regression Results                                \n",
              "=======================================================================================\n",
              "Dep. Variable:                      y   R-squared (uncentered):                   0.755\n",
              "Model:                            OLS   Adj. R-squared (uncentered):              0.754\n",
              "Method:                 Least Squares   F-statistic:                              688.1\n",
              "Date:                Sat, 25 Sep 2021   Prob (F-statistic):                    4.29e-70\n",
              "Time:                        19:15:51   Log-Likelihood:                         -128.77\n",
              "No. Observations:                 224   AIC:                                      259.5\n",
              "Df Residuals:                     223   BIC:                                      262.9\n",
              "Df Model:                           1                                                  \n",
              "Covariance Type:            nonrobust                                                  \n",
              "==============================================================================\n",
              "                 coef    std err          t      P>|t|      [0.025      0.975]\n",
              "------------------------------------------------------------------------------\n",
              "PRICE          0.7552      0.029     26.231      0.000       0.698       0.812\n",
              "==============================================================================\n",
              "Omnibus:                        7.983   Durbin-Watson:                   2.036\n",
              "Prob(Omnibus):                  0.018   Jarque-Bera (JB):                6.421\n",
              "Skew:                          -0.318   Prob(JB):                       0.0403\n",
              "Kurtosis:                       2.469   Cond. No.                         1.00\n",
              "==============================================================================\n",
              "\n",
              "Warnings:\n",
              "[1] Standard Errors assume that the covariance matrix of the errors is correctly specified.\n",
              "\"\"\""
            ]
          },
          "metadata": {},
          "execution_count": 469
        }
      ]
    },
    {
      "cell_type": "code",
      "metadata": {
        "colab": {
          "base_uri": "https://localhost:8080/",
          "height": 417
        },
        "id": "4fQL4pC2O5GR",
        "outputId": "2f4d351a-ba4b-48da-f5df-e94fb01c3d1d"
      },
      "source": [
        "results = sm.OLS(y_pred_val, y_val).fit()\n",
        "results.summary()"
      ],
      "execution_count": null,
      "outputs": [
        {
          "output_type": "execute_result",
          "data": {
            "text/html": [
              "<table class=\"simpletable\">\n",
              "<caption>OLS Regression Results</caption>\n",
              "<tr>\n",
              "  <th>Dep. Variable:</th>            <td>y</td>        <th>  R-squared (uncentered):</th>      <td>   0.621</td>\n",
              "</tr>\n",
              "<tr>\n",
              "  <th>Model:</th>                   <td>OLS</td>       <th>  Adj. R-squared (uncentered):</th> <td>   0.616</td>\n",
              "</tr>\n",
              "<tr>\n",
              "  <th>Method:</th>             <td>Least Squares</td>  <th>  F-statistic:       </th>          <td>   121.3</td>\n",
              "</tr>\n",
              "<tr>\n",
              "  <th>Date:</th>             <td>Sat, 25 Sep 2021</td> <th>  Prob (F-statistic):</th>          <td>2.98e-17</td>\n",
              "</tr>\n",
              "<tr>\n",
              "  <th>Time:</th>                 <td>19:15:51</td>     <th>  Log-Likelihood:    </th>          <td> -47.964</td>\n",
              "</tr>\n",
              "<tr>\n",
              "  <th>No. Observations:</th>      <td>    75</td>      <th>  AIC:               </th>          <td>   97.93</td>\n",
              "</tr>\n",
              "<tr>\n",
              "  <th>Df Residuals:</th>          <td>    74</td>      <th>  BIC:               </th>          <td>   100.2</td>\n",
              "</tr>\n",
              "<tr>\n",
              "  <th>Df Model:</th>              <td>     1</td>      <th>                     </th>              <td> </td>   \n",
              "</tr>\n",
              "<tr>\n",
              "  <th>Covariance Type:</th>      <td>nonrobust</td>    <th>                     </th>              <td> </td>   \n",
              "</tr>\n",
              "</table>\n",
              "<table class=\"simpletable\">\n",
              "<tr>\n",
              "    <td></td>       <th>coef</th>     <th>std err</th>      <th>t</th>      <th>P>|t|</th>  <th>[0.025</th>    <th>0.975]</th>  \n",
              "</tr>\n",
              "<tr>\n",
              "  <th>PRICE</th> <td>    0.7367</td> <td>    0.067</td> <td>   11.012</td> <td> 0.000</td> <td>    0.603</td> <td>    0.870</td>\n",
              "</tr>\n",
              "</table>\n",
              "<table class=\"simpletable\">\n",
              "<tr>\n",
              "  <th>Omnibus:</th>       <td>26.003</td> <th>  Durbin-Watson:     </th> <td>   1.655</td>\n",
              "</tr>\n",
              "<tr>\n",
              "  <th>Prob(Omnibus):</th> <td> 0.000</td> <th>  Jarque-Bera (JB):  </th> <td>  50.495</td>\n",
              "</tr>\n",
              "<tr>\n",
              "  <th>Skew:</th>          <td>-1.225</td> <th>  Prob(JB):          </th> <td>1.08e-11</td>\n",
              "</tr>\n",
              "<tr>\n",
              "  <th>Kurtosis:</th>      <td> 6.187</td> <th>  Cond. No.          </th> <td>    1.00</td>\n",
              "</tr>\n",
              "</table><br/><br/>Warnings:<br/>[1] Standard Errors assume that the covariance matrix of the errors is correctly specified."
            ],
            "text/plain": [
              "<class 'statsmodels.iolib.summary.Summary'>\n",
              "\"\"\"\n",
              "                                 OLS Regression Results                                \n",
              "=======================================================================================\n",
              "Dep. Variable:                      y   R-squared (uncentered):                   0.621\n",
              "Model:                            OLS   Adj. R-squared (uncentered):              0.616\n",
              "Method:                 Least Squares   F-statistic:                              121.3\n",
              "Date:                Sat, 25 Sep 2021   Prob (F-statistic):                    2.98e-17\n",
              "Time:                        19:15:51   Log-Likelihood:                         -47.964\n",
              "No. Observations:                  75   AIC:                                      97.93\n",
              "Df Residuals:                      74   BIC:                                      100.2\n",
              "Df Model:                           1                                                  \n",
              "Covariance Type:            nonrobust                                                  \n",
              "==============================================================================\n",
              "                 coef    std err          t      P>|t|      [0.025      0.975]\n",
              "------------------------------------------------------------------------------\n",
              "PRICE          0.7367      0.067     11.012      0.000       0.603       0.870\n",
              "==============================================================================\n",
              "Omnibus:                       26.003   Durbin-Watson:                   1.655\n",
              "Prob(Omnibus):                  0.000   Jarque-Bera (JB):               50.495\n",
              "Skew:                          -1.225   Prob(JB):                     1.08e-11\n",
              "Kurtosis:                       6.187   Cond. No.                         1.00\n",
              "==============================================================================\n",
              "\n",
              "Warnings:\n",
              "[1] Standard Errors assume that the covariance matrix of the errors is correctly specified.\n",
              "\"\"\""
            ]
          },
          "metadata": {},
          "execution_count": 470
        }
      ]
    },
    {
      "cell_type": "markdown",
      "metadata": {
        "id": "2B-FtJuZbHSN"
      },
      "source": [
        "## **Regularized Linear Regression (LASSO)**"
      ]
    },
    {
      "cell_type": "markdown",
      "metadata": {
        "id": "rpH3_g6uwqnh"
      },
      "source": [
        "**Lasso with different lambdas**"
      ]
    },
    {
      "cell_type": "markdown",
      "metadata": {
        "id": "g2PGiw4eIOFm"
      },
      "source": [
        "Apply the Lasso regression on the training set"
      ]
    },
    {
      "cell_type": "code",
      "metadata": {
        "id": "XdRarSaguBhI"
      },
      "source": [
        "lambdas = (0.001, 0.01, 0.1, 0.5, 1, 2, 10)\n",
        "l_num = 7\n",
        "pred_num = X.shape[1]"
      ],
      "execution_count": null,
      "outputs": []
    },
    {
      "cell_type": "markdown",
      "metadata": {
        "id": "WzXuHyWPEmQN"
      },
      "source": [
        "prepare data for enumerate"
      ]
    },
    {
      "cell_type": "code",
      "metadata": {
        "id": "7ln6lHj-IY9K"
      },
      "source": [
        "coeff_a = np.zeros((l_num, pred_num))\n",
        "train_r_squared = np.zeros(l_num)\n",
        "validate_r_squared = np.zeros(l_num)"
      ],
      "execution_count": null,
      "outputs": []
    },
    {
      "cell_type": "code",
      "metadata": {
        "id": "Ba5DBD-jwwBA"
      },
      "source": [
        "for ind, i in enumerate(lambdas):    \n",
        "    reg = Lasso(alpha = i)\n",
        "    reg.fit(X_train, y_train)\n",
        "\n",
        "    coeff_a[ind,:] = reg.coef_\n",
        "    train_r_squared[ind] = reg.score(X_train, y_train)\n",
        "    validate_r_squared[ind] = reg.score(X_val, y_val)"
      ],
      "execution_count": null,
      "outputs": []
    },
    {
      "cell_type": "markdown",
      "metadata": {
        "id": "c4smI99Dw4HS"
      },
      "source": [
        "Plot all values in the train and test set for both data sets \n",
        "R\n",
        "2\n",
        "-values as a function of λ. "
      ]
    },
    {
      "cell_type": "code",
      "metadata": {
        "colab": {
          "base_uri": "https://localhost:8080/",
          "height": 513
        },
        "id": "xRCSIOj-wz07",
        "outputId": "1e702b8b-0163-4a53-afa2-a51270539d56"
      },
      "source": [
        "# Plotting\n",
        "plt.figure(figsize=(18, 8))\n",
        "plt.plot(train_r_squared, 'bo-', label=r'$R^2$ Training set', color=\"darkblue\",alpha=0.5,  linewidth=4)\n",
        "plt.plot(validate_r_squared, 'bo-', label=r'$R^2$ Vlidate set', color=\"darkgreen\",alpha=0.5, linewidth=4)\n",
        "plt.xlabel('Lamda index'); plt.ylabel(r'$R^2$')\n",
        "plt.xlim(0, 6)\n",
        "plt.title(r'Evaluate lasso regression with lamdas: 0 = 0.001, 1= 0.01, 2 = 0.1, 3 = 0.5, 4= 1, 5= 2, 6 = 10')\n",
        "plt.legend(loc='best')\n",
        "plt.grid()\n",
        "#plt.savefig('lasso.png') # To save the plot.\n",
        "#files.download('lasso.png') # To download the plot to your computer."
      ],
      "execution_count": null,
      "outputs": [
        {
          "output_type": "display_data",
          "data": {
            "image/png": "[encoded data removed]",
            "text/plain": [
              "<Figure size 1296x576 with 1 Axes>"
            ]
          },
          "metadata": {
            "needs_background": "light"
          }
        }
      ]
    },
    {
      "cell_type": "markdown",
      "metadata": {
        "id": "6imQ5IfGxH-q"
      },
      "source": [
        "**Identify best lambda and coefficients**"
      ]
    },
    {
      "cell_type": "markdown",
      "metadata": {
        "id": "nBZLjDXgJ35e"
      },
      "source": [
        "save the test set into DataFrame"
      ]
    },
    {
      "cell_type": "code",
      "metadata": {
        "id": "mIoQmTzKKEzw"
      },
      "source": [
        "df_lam = pd.DataFrame(validate_r_squared*100, columns=['R_squared'])\n",
        "df_lam['lambda'] = (lambdas)"
      ],
      "execution_count": null,
      "outputs": []
    },
    {
      "cell_type": "markdown",
      "metadata": {
        "id": "OYDjWwW7KPig"
      },
      "source": [
        "Indentify the lambda where the \n",
        "R\n",
        "2\n",
        " has it’s maximum value"
      ]
    },
    {
      "cell_type": "code",
      "metadata": {
        "colab": {
          "base_uri": "https://localhost:8080/"
        },
        "id": "ogRQ0e1Uw7A_",
        "outputId": "4e4b5d2b-1c63-43f4-8f4e-5c24f59567be"
      },
      "source": [
        "df_lam.loc[df_lam['R_squared'].idxmax()] # returns the index of the row."
      ],
      "execution_count": null,
      "outputs": [
        {
          "output_type": "execute_result",
          "data": {
            "text/plain": [
              "R_squared    58.977174\n",
              "lambda        0.010000\n",
              "Name: 1, dtype: float64"
            ]
          },
          "metadata": {},
          "execution_count": 476
        }
      ]
    },
    {
      "cell_type": "markdown",
      "metadata": {
        "id": "iHUHQoQsKiOI"
      },
      "source": [
        "Fit a Lasso model using the training set and obtain the corresponding regression coefficients"
      ]
    },
    {
      "cell_type": "code",
      "metadata": {
        "colab": {
          "base_uri": "https://localhost:8080/"
        },
        "id": "o312jQZ5xLE9",
        "outputId": "71cd6a15-58cb-4231-8639-b8b8f36aa9aa"
      },
      "source": [
        "reg_best = Lasso(alpha = 0.01)\n",
        "reg_best.fit(X_train, y_train)"
      ],
      "execution_count": null,
      "outputs": [
        {
          "output_type": "execute_result",
          "data": {
            "text/plain": [
              "Lasso(alpha=0.01, copy_X=True, fit_intercept=True, max_iter=1000,\n",
              "      normalize=False, positive=False, precompute=False, random_state=None,\n",
              "      selection='cyclic', tol=0.0001, warm_start=False)"
            ]
          },
          "metadata": {},
          "execution_count": 477
        }
      ]
    },
    {
      "cell_type": "markdown",
      "metadata": {
        "id": "g611mKnFLFk3"
      },
      "source": [
        "R^2 for the validation set"
      ]
    },
    {
      "cell_type": "code",
      "metadata": {
        "colab": {
          "base_uri": "https://localhost:8080/"
        },
        "id": "lNLrdl8NxdiG",
        "outputId": "4ef14f16-3304-4e58-8b92-bd9e7d16e1b3"
      },
      "source": [
        "print(\" R^2 for the Validation:\", r2_score(y_val,  reg_best.predict(X_val))*100)"
      ],
      "execution_count": null,
      "outputs": [
        {
          "output_type": "stream",
          "name": "stdout",
          "text": [
            " R^2 for the Validation: 58.9771735851661\n"
          ]
        }
      ]
    },
    {
      "cell_type": "markdown",
      "metadata": {
        "id": "vCu77wJ-xyUs"
      },
      "source": [
        "Cross Validation"
      ]
    },
    {
      "cell_type": "markdown",
      "metadata": {
        "id": "DnR76pdaNDNr"
      },
      "source": [
        "Evaluate the Lasso regression for different regularization parameters (lamdas) using 5 fold cross validation "
      ]
    },
    {
      "cell_type": "code",
      "metadata": {
        "id": "gwlzB9elxkSa"
      },
      "source": [
        "l_min = 0.05\n",
        "l_max = 0.2\n",
        "l_num = 20\n",
        "lambdas = np.linspace(l_min,l_max, l_num)\n",
        "\n",
        "train_r_squared = np.zeros(l_num)\n",
        "test_r_squared = np.zeros(l_num)\n",
        "\n",
        "pred_num = X.shape[1]\n",
        "coeff_a = np.zeros((l_num, pred_num))"
      ],
      "execution_count": null,
      "outputs": []
    },
    {
      "cell_type": "code",
      "metadata": {
        "id": "VxILGhiwx2Hx"
      },
      "source": [
        "for ind, i in enumerate(lambdas):    \n",
        "    reg = Lasso(alpha = i)\n",
        "    reg.fit(X_train, y_train)\n",
        "    results = cross_val_score(reg, X, y, cv=5, scoring=\"r2\")\n",
        "\n",
        "    train_r_squared[ind] = reg.score(X_train, y_train)    \n",
        "    test_r_squared[ind] = reg.score(X_test, y_test)"
      ],
      "execution_count": null,
      "outputs": []
    },
    {
      "cell_type": "code",
      "metadata": {
        "colab": {
          "base_uri": "https://localhost:8080/",
          "height": 513
        },
        "id": "uX03r4NUT0w2",
        "outputId": "a513ae1f-cd16-4dc6-b209-862525d57bc6"
      },
      "source": [
        "# Plotting\n",
        "plt.figure(figsize=(18, 8))\n",
        "plt.plot(train_r_squared, 'bo-', label=r'$R^2$ Training set', color=\"darkblue\", alpha=0.5, linewidth=4)\n",
        "plt.plot(test_r_squared, 'bo-', label=r'$R^2$ Test set', color=\"darkgreen\", alpha=0.5, linewidth=4)\n",
        "plt.xlabel('Lamda value'); plt.ylabel(r'$R^2$')\n",
        "plt.xlim(0, 19)\n",
        "plt.title(r'Evaluate 5-fold cv with different lamdas')\n",
        "plt.legend(loc='best')\n",
        "plt.grid()"
      ],
      "execution_count": null,
      "outputs": [
        {
          "output_type": "display_data",
          "data": {
            "image/png": "[encoded data removed]",
            "text/plain": [
              "<Figure size 1296x576 with 1 Axes>"
            ]
          },
          "metadata": {
            "needs_background": "light"
          }
        }
      ]
    },
    {
      "cell_type": "markdown",
      "metadata": {
        "id": "RODqGc3IyDn1"
      },
      "source": [
        "Best Model"
      ]
    },
    {
      "cell_type": "code",
      "metadata": {
        "colab": {
          "base_uri": "https://localhost:8080/"
        },
        "id": "8KHdnI-ux7yY",
        "outputId": "c595a774-1166-4e83-9e46-341c2e35af7e"
      },
      "source": [
        "df_lam = pd.DataFrame(test_r_squared*100, columns=['R_squared'])\n",
        "df_lam['lambda'] = (lambdas)\n",
        "df_lam.loc[df_lam['R_squared'].idxmax()]"
      ],
      "execution_count": null,
      "outputs": [
        {
          "output_type": "execute_result",
          "data": {
            "text/plain": [
              "R_squared    75.74238\n",
              "lambda        0.05000\n",
              "Name: 0, dtype: float64"
            ]
          },
          "metadata": {},
          "execution_count": 482
        }
      ]
    },
    {
      "cell_type": "code",
      "metadata": {
        "colab": {
          "base_uri": "https://localhost:8080/"
        },
        "id": "ZPit6peTyF0I",
        "outputId": "18709ef6-c7b7-4b2b-9779-79170c5b307d"
      },
      "source": [
        "reg_best = Lasso(alpha = 0.05)\n",
        "reg_best.fit(X_train, y_train)"
      ],
      "execution_count": null,
      "outputs": [
        {
          "output_type": "execute_result",
          "data": {
            "text/plain": [
              "Lasso(alpha=0.05, copy_X=True, fit_intercept=True, max_iter=1000,\n",
              "      normalize=False, positive=False, precompute=False, random_state=None,\n",
              "      selection='cyclic', tol=0.0001, warm_start=False)"
            ]
          },
          "metadata": {},
          "execution_count": 483
        }
      ]
    },
    {
      "cell_type": "code",
      "metadata": {
        "colab": {
          "base_uri": "https://localhost:8080/"
        },
        "id": "NWhgFB1MyLWc",
        "outputId": "f511d113-e71b-490b-86e4-af97cbbeb3d8"
      },
      "source": [
        "print(\" R^2=\", r2_score(y_test,  reg_best.predict(X_test)))"
      ],
      "execution_count": null,
      "outputs": [
        {
          "output_type": "stream",
          "name": "stdout",
          "text": [
            " R^2= 0.7574237977446632\n"
          ]
        }
      ]
    },
    {
      "cell_type": "markdown",
      "metadata": {
        "id": "KrB5uo0VwKcC"
      },
      "source": [
        "**Ridge Regression**"
      ]
    },
    {
      "cell_type": "markdown",
      "metadata": {
        "id": "aOkV0_FI0L55"
      },
      "source": [
        "Specify the range of hyperparameters (alpha)\n"
      ]
    },
    {
      "cell_type": "code",
      "metadata": {
        "id": "Q-HbwlPW0Pzw"
      },
      "source": [
        "params = {'alpha': [0.0001, 0.001, 0.01, 0.05, 0.1, \n",
        " 0.2, 0.3, 0.4, 0.5, 0.6, 0.7, 0.8, 0.9, 1.0, 2.0, 3.0, \n",
        " 4.0, 5.0, 6.0, 7.0, 8.0, 9.0, 10.0]}"
      ],
      "execution_count": null,
      "outputs": []
    },
    {
      "cell_type": "markdown",
      "metadata": {
        "id": "mv2CEAye0S2B"
      },
      "source": [
        "Instantiate Ridge regression"
      ]
    },
    {
      "cell_type": "code",
      "metadata": {
        "id": "2YIBvWMQ0SXb"
      },
      "source": [
        "ridge = Ridge()"
      ],
      "execution_count": null,
      "outputs": []
    },
    {
      "cell_type": "markdown",
      "metadata": {
        "id": "Lb5MejZf0ZTY"
      },
      "source": [
        "Cross validation with 5 folds\n"
      ]
    },
    {
      "cell_type": "code",
      "metadata": {
        "id": "4uFjSCEQ0cD8"
      },
      "source": [
        "folds = 5\n",
        "model_cv = GridSearchCV(estimator=ridge,\n",
        "                       param_grid=params,\n",
        "                       scoring='r2',\n",
        "                       cv=folds,\n",
        "                       return_train_score=True,\n",
        "                       verbose=1)"
      ],
      "execution_count": null,
      "outputs": []
    },
    {
      "cell_type": "markdown",
      "metadata": {
        "id": "T_rZMRus0hat"
      },
      "source": [
        "Fitting the model with train set\n"
      ]
    },
    {
      "cell_type": "code",
      "metadata": {
        "colab": {
          "base_uri": "https://localhost:8080/"
        },
        "id": "qxUZymYD0g38",
        "outputId": "3e68a0c3-2bdd-403c-9e2b-ba396cbba0a1"
      },
      "source": [
        "model_cv.fit(X_train, y_train)"
      ],
      "execution_count": null,
      "outputs": [
        {
          "output_type": "stream",
          "name": "stdout",
          "text": [
            "Fitting 5 folds for each of 23 candidates, totalling 115 fits\n"
          ]
        },
        {
          "output_type": "stream",
          "name": "stderr",
          "text": [
            "[Parallel(n_jobs=1)]: Using backend SequentialBackend with 1 concurrent workers.\n",
            "[Parallel(n_jobs=1)]: Done 115 out of 115 | elapsed:    0.5s finished\n"
          ]
        },
        {
          "output_type": "execute_result",
          "data": {
            "text/plain": [
              "GridSearchCV(cv=5, error_score=nan,\n",
              "             estimator=Ridge(alpha=1.0, copy_X=True, fit_intercept=True,\n",
              "                             max_iter=None, normalize=False, random_state=None,\n",
              "                             solver='auto', tol=0.001),\n",
              "             iid='deprecated', n_jobs=None,\n",
              "             param_grid={'alpha': [0.0001, 0.001, 0.01, 0.05, 0.1, 0.2, 0.3,\n",
              "                                   0.4, 0.5, 0.6, 0.7, 0.8, 0.9, 1.0, 2.0, 3.0,\n",
              "                                   4.0, 5.0, 6.0, 7.0, 8.0, 9.0, 10.0]},\n",
              "             pre_dispatch='2*n_jobs', refit=True, return_train_score=True,\n",
              "             scoring='r2', verbose=1)"
            ]
          },
          "metadata": {},
          "execution_count": 488
        }
      ]
    },
    {
      "cell_type": "markdown",
      "metadata": {
        "id": "93E5RL0U0oL2"
      },
      "source": [
        "creating dataframe with model_ridge results"
      ]
    },
    {
      "cell_type": "code",
      "metadata": {
        "colab": {
          "base_uri": "https://localhost:8080/",
          "height": 308
        },
        "id": "VgCRy5ym0q_b",
        "outputId": "7cae7c00-d11e-4398-b502-9c985a4f68a7"
      },
      "source": [
        "ridge_results = pd.DataFrame(model_cv.cv_results_)\n",
        "ridge_results.head()"
      ],
      "execution_count": null,
      "outputs": [
        {
          "output_type": "execute_result",
          "data": {
            "text/html": [
              "<div>\n",
              "<style scoped>\n",
              "    .dataframe tbody tr th:only-of-type {\n",
              "        vertical-align: middle;\n",
              "    }\n",
              "\n",
              "    .dataframe tbody tr th {\n",
              "        vertical-align: top;\n",
              "    }\n",
              "\n",
              "    .dataframe thead th {\n",
              "        text-align: right;\n",
              "    }\n",
              "</style>\n",
              "<table border=\"1\" class=\"dataframe\">\n",
              "  <thead>\n",
              "    <tr style=\"text-align: right;\">\n",
              "      <th></th>\n",
              "      <th>mean_fit_time</th>\n",
              "      <th>std_fit_time</th>\n",
              "      <th>mean_score_time</th>\n",
              "      <th>std_score_time</th>\n",
              "      <th>param_alpha</th>\n",
              "      <th>params</th>\n",
              "      <th>split0_test_score</th>\n",
              "      <th>split1_test_score</th>\n",
              "      <th>split2_test_score</th>\n",
              "      <th>split3_test_score</th>\n",
              "      <th>split4_test_score</th>\n",
              "      <th>mean_test_score</th>\n",
              "      <th>std_test_score</th>\n",
              "      <th>rank_test_score</th>\n",
              "      <th>split0_train_score</th>\n",
              "      <th>split1_train_score</th>\n",
              "      <th>split2_train_score</th>\n",
              "      <th>split3_train_score</th>\n",
              "      <th>split4_train_score</th>\n",
              "      <th>mean_train_score</th>\n",
              "      <th>std_train_score</th>\n",
              "    </tr>\n",
              "  </thead>\n",
              "  <tbody>\n",
              "    <tr>\n",
              "      <th>0</th>\n",
              "      <td>0.001947</td>\n",
              "      <td>0.000682</td>\n",
              "      <td>0.001179</td>\n",
              "      <td>0.000291</td>\n",
              "      <td>0.0001</td>\n",
              "      <td>{'alpha': 0.0001}</td>\n",
              "      <td>0.672103</td>\n",
              "      <td>0.752629</td>\n",
              "      <td>0.742729</td>\n",
              "      <td>0.723938</td>\n",
              "      <td>0.760937</td>\n",
              "      <td>0.730467</td>\n",
              "      <td>0.031683</td>\n",
              "      <td>23</td>\n",
              "      <td>0.770402</td>\n",
              "      <td>0.753718</td>\n",
              "      <td>0.758635</td>\n",
              "      <td>0.749871</td>\n",
              "      <td>0.752058</td>\n",
              "      <td>0.756937</td>\n",
              "      <td>0.007325</td>\n",
              "    </tr>\n",
              "    <tr>\n",
              "      <th>1</th>\n",
              "      <td>0.001598</td>\n",
              "      <td>0.000104</td>\n",
              "      <td>0.001617</td>\n",
              "      <td>0.001268</td>\n",
              "      <td>0.001</td>\n",
              "      <td>{'alpha': 0.001}</td>\n",
              "      <td>0.672103</td>\n",
              "      <td>0.752629</td>\n",
              "      <td>0.742728</td>\n",
              "      <td>0.723943</td>\n",
              "      <td>0.760937</td>\n",
              "      <td>0.730468</td>\n",
              "      <td>0.031682</td>\n",
              "      <td>22</td>\n",
              "      <td>0.770402</td>\n",
              "      <td>0.753718</td>\n",
              "      <td>0.758635</td>\n",
              "      <td>0.749871</td>\n",
              "      <td>0.752058</td>\n",
              "      <td>0.756937</td>\n",
              "      <td>0.007325</td>\n",
              "    </tr>\n",
              "    <tr>\n",
              "      <th>2</th>\n",
              "      <td>0.001560</td>\n",
              "      <td>0.000022</td>\n",
              "      <td>0.000963</td>\n",
              "      <td>0.000005</td>\n",
              "      <td>0.01</td>\n",
              "      <td>{'alpha': 0.01}</td>\n",
              "      <td>0.672098</td>\n",
              "      <td>0.752629</td>\n",
              "      <td>0.742724</td>\n",
              "      <td>0.723991</td>\n",
              "      <td>0.760937</td>\n",
              "      <td>0.730476</td>\n",
              "      <td>0.031682</td>\n",
              "      <td>21</td>\n",
              "      <td>0.770402</td>\n",
              "      <td>0.753718</td>\n",
              "      <td>0.758635</td>\n",
              "      <td>0.749871</td>\n",
              "      <td>0.752058</td>\n",
              "      <td>0.756937</td>\n",
              "      <td>0.007325</td>\n",
              "    </tr>\n",
              "    <tr>\n",
              "      <th>3</th>\n",
              "      <td>0.001738</td>\n",
              "      <td>0.000380</td>\n",
              "      <td>0.000962</td>\n",
              "      <td>0.000010</td>\n",
              "      <td>0.05</td>\n",
              "      <td>{'alpha': 0.05}</td>\n",
              "      <td>0.672077</td>\n",
              "      <td>0.752629</td>\n",
              "      <td>0.742703</td>\n",
              "      <td>0.724205</td>\n",
              "      <td>0.760937</td>\n",
              "      <td>0.730510</td>\n",
              "      <td>0.031679</td>\n",
              "      <td>20</td>\n",
              "      <td>0.770401</td>\n",
              "      <td>0.753718</td>\n",
              "      <td>0.758635</td>\n",
              "      <td>0.749871</td>\n",
              "      <td>0.752058</td>\n",
              "      <td>0.756937</td>\n",
              "      <td>0.007325</td>\n",
              "    </tr>\n",
              "    <tr>\n",
              "      <th>4</th>\n",
              "      <td>0.001544</td>\n",
              "      <td>0.000026</td>\n",
              "      <td>0.000969</td>\n",
              "      <td>0.000010</td>\n",
              "      <td>0.1</td>\n",
              "      <td>{'alpha': 0.1}</td>\n",
              "      <td>0.672051</td>\n",
              "      <td>0.752629</td>\n",
              "      <td>0.742677</td>\n",
              "      <td>0.724471</td>\n",
              "      <td>0.760936</td>\n",
              "      <td>0.730553</td>\n",
              "      <td>0.031676</td>\n",
              "      <td>19</td>\n",
              "      <td>0.770401</td>\n",
              "      <td>0.753718</td>\n",
              "      <td>0.758635</td>\n",
              "      <td>0.749871</td>\n",
              "      <td>0.752058</td>\n",
              "      <td>0.756937</td>\n",
              "      <td>0.007325</td>\n",
              "    </tr>\n",
              "  </tbody>\n",
              "</table>\n",
              "</div>"
            ],
            "text/plain": [
              "   mean_fit_time  std_fit_time  ...  mean_train_score  std_train_score\n",
              "0       0.001947      0.000682  ...          0.756937         0.007325\n",
              "1       0.001598      0.000104  ...          0.756937         0.007325\n",
              "2       0.001560      0.000022  ...          0.756937         0.007325\n",
              "3       0.001738      0.000380  ...          0.756937         0.007325\n",
              "4       0.001544      0.000026  ...          0.756937         0.007325\n",
              "\n",
              "[5 rows x 21 columns]"
            ]
          },
          "metadata": {},
          "execution_count": 489
        }
      ]
    },
    {
      "cell_type": "markdown",
      "metadata": {
        "id": "JYXt-vi00u9G"
      },
      "source": [
        "Plotting the mean of the train and test results"
      ]
    },
    {
      "cell_type": "code",
      "metadata": {
        "id": "ftwj2TuC0wyG"
      },
      "source": [
        "# Converting the 'param_alpha' datatype from object to int\n",
        "ridge_results['param_alpha'] = ridge_results['param_alpha'].astype('int32')"
      ],
      "execution_count": null,
      "outputs": []
    },
    {
      "cell_type": "code",
      "metadata": {
        "colab": {
          "base_uri": "https://localhost:8080/",
          "height": 404
        },
        "id": "YDGUuEve062d",
        "outputId": "45d406a5-eb67-405b-8d25-d4b62f84dc27"
      },
      "source": [
        "\n",
        "plt.figure(figsize=(8,6))\n",
        "plt.plot(ridge_results['param_alpha'], ridge_results['mean_train_score'])\n",
        "\n",
        "plt.plot(ridge_results['param_alpha'], ridge_results['mean_test_score'])\n",
        "plt.legend(['train score', 'test score'])\n",
        "plt.xlabel('alpha')\n",
        "plt.ylabel('mean r2 score')\n",
        "plt.title('Plotting mean of Train/Test score')\n",
        "plt.show()\n",
        "#plt.savefig('ridge.png') # To save the plot.\n",
        "#files.download('ridge.png') # To download the plot to your computer."
      ],
      "execution_count": null,
      "outputs": [
        {
          "output_type": "display_data",
          "data": {
            "image/png": "[encoded data removed]",
            "text/plain": [
              "<Figure size 576x432 with 1 Axes>"
            ]
          },
          "metadata": {
            "needs_background": "light"
          }
        }
      ]
    },
    {
      "cell_type": "markdown",
      "metadata": {
        "id": "EO-DD2D8364X"
      },
      "source": [
        "We need to pick the value of alpha for which the test score peaks up. In this case in alpha=2, the error is least in the test set and hence the accuracy is more approximately 73.3%."
      ]
    },
    {
      "cell_type": "markdown",
      "metadata": {
        "id": "CuhNmkQR4IqW"
      },
      "source": [
        "Ridge regression with optimal alpha = 2"
      ]
    },
    {
      "cell_type": "code",
      "metadata": {
        "colab": {
          "base_uri": "https://localhost:8080/"
        },
        "id": "5Ro_qoLz4Kn1",
        "outputId": "f25d33e6-8f90-49c6-f8c8-63df04f41c90"
      },
      "source": [
        "model_ridge = Ridge(alpha=2)\n",
        "# Fitting the model with the train set\n",
        "model_ridge.fit(X_train, y_train)"
      ],
      "execution_count": null,
      "outputs": [
        {
          "output_type": "execute_result",
          "data": {
            "text/plain": [
              "Ridge(alpha=2, copy_X=True, fit_intercept=True, max_iter=None, normalize=False,\n",
              "      random_state=None, solver='auto', tol=0.001)"
            ]
          },
          "metadata": {},
          "execution_count": 492
        }
      ]
    },
    {
      "cell_type": "markdown",
      "metadata": {
        "id": "SP17PZSg4Sll"
      },
      "source": [
        "Model evaluation Ridge Regression"
      ]
    },
    {
      "cell_type": "markdown",
      "metadata": {
        "id": "EeAtbJmt4dbE"
      },
      "source": [
        "Model performance on the train set"
      ]
    },
    {
      "cell_type": "code",
      "metadata": {
        "colab": {
          "base_uri": "https://localhost:8080/"
        },
        "id": "kD27GsbT4PrU",
        "outputId": "e5119ae8-441f-4e49-e60b-79e574a10960"
      },
      "source": [
        "y_train_pred = model_ridge.predict(X_train)\n",
        "print(metrics.r2_score(y_true = y_train, y_pred = y_train_pred))"
      ],
      "execution_count": null,
      "outputs": [
        {
          "output_type": "stream",
          "name": "stdout",
          "text": [
            "0.755188956903733\n"
          ]
        }
      ]
    },
    {
      "cell_type": "markdown",
      "metadata": {
        "id": "nwCZmAtW4jcV"
      },
      "source": [
        "Model performance on the test set"
      ]
    },
    {
      "cell_type": "code",
      "metadata": {
        "colab": {
          "base_uri": "https://localhost:8080/"
        },
        "id": "neMBZFb94jGK",
        "outputId": "d447158a-b80c-4f0e-d8cf-82283171f965"
      },
      "source": [
        "y_test_pred = model_ridge.predict(X_test)\n",
        "print(metrics.r2_score(y_true = y_test, y_pred = y_test_pred))"
      ],
      "execution_count": null,
      "outputs": [
        {
          "output_type": "stream",
          "name": "stdout",
          "text": [
            "0.7482163879012937\n"
          ]
        }
      ]
    },
    {
      "cell_type": "markdown",
      "metadata": {
        "id": "CnrHfRAA-LUa"
      },
      "source": [
        "**Evaluating the Three models using Test set across these three models**"
      ]
    },
    {
      "cell_type": "code",
      "metadata": {
        "colab": {
          "base_uri": "https://localhost:8080/"
        },
        "id": "EESDRtk7-tl2",
        "outputId": "ce3f9604-672e-473b-c18a-2266727304f9"
      },
      "source": [
        "y_pred = lm1.predict(X_test)\n",
        "print(\"Linear Regression:\", r2_score(y_test, y_pred))\n",
        "\n",
        "y_pred = reg_best.predict(X_test)\n",
        "print(\"Lasso Regression:\", r2_score(y_test, y_pred))\n",
        "\n",
        "y_pred = model_ridge.predict(X_test)\n",
        "print(\"Ridge Regression:\", r2_score(y_test, y_pred))"
      ],
      "execution_count": null,
      "outputs": [
        {
          "output_type": "stream",
          "name": "stdout",
          "text": [
            "Linear Regression: 0.7465804203840658\n",
            "Lasso Regression: 0.7574237977446632\n",
            "Ridge Regression: 0.7482163879012937\n"
          ]
        }
      ]
    },
    {
      "cell_type": "markdown",
      "metadata": {
        "id": "tjbtHEgmO5GS"
      },
      "source": [
        "# Linear Regression Assumptions Validation"
      ]
    },
    {
      "cell_type": "markdown",
      "metadata": {
        "id": "HhS3V0g8O5GS"
      },
      "source": [
        "**Assumption 1: regression is linear in parameters and correctly specified**"
      ]
    },
    {
      "cell_type": "code",
      "metadata": {
        "id": "45UI4qk8O5GS"
      },
      "source": [
        "def diagnostic_plot(x, y):\n",
        "    plt.figure(figsize=(20,5))\n",
        "    \n",
        "    rgr = LinearRegression()\n",
        "    rgr.fit(x,y)\n",
        "    pred = rgr.predict(x) # \"regression prediction\"\n",
        "\n",
        "    plt.subplot(1, 3, 1)\n",
        "    plt.scatter(x,y) # \"scatter\"\n",
        "    plt.plot(x, pred, color='blue',linewidth=1)\n",
        "    plt.title(\"Regression fit\")\n",
        "    plt.xlabel(\"x\")\n",
        "    plt.ylabel(\"y\")\n",
        "    \n",
        "    plt.subplot(1, 3, 2)\n",
        "    res = y - pred\n",
        "    plt.scatter(pred, res) # \"scatter supposed to have no pattern\"\n",
        "    plt.title(\"Residual plot\")\n",
        "    plt.xlabel(\"prediction\")\n",
        "    plt.ylabel(\"residuals\")\n",
        "    \n",
        "    plt.subplot(1, 3, 3)\n",
        "    #Generates a probability plot of sample data against the quantiles of a \n",
        "    # specified theoretical distribution \n",
        "    stats.probplot(res, dist=\"norm\", plot=plt) # \"normal qq plot\"\n",
        "    plt.title(\"Normal Q-Q plot\")"
      ],
      "execution_count": null,
      "outputs": []
    },
    {
      "cell_type": "code",
      "metadata": {
        "colab": {
          "base_uri": "https://localhost:8080/",
          "height": 350
        },
        "id": "UeFL3gScO5GS",
        "outputId": "912783f3-b5a5-49c3-d496-19e33bc8ae9c"
      },
      "source": [
        "diagnostic_plot(y_pred_train.reshape(224,1), y_train)"
      ],
      "execution_count": null,
      "outputs": [
        {
          "output_type": "display_data",
          "data": {
            "image/png": "[encoded data removed]",
            "text/plain": [
              "<Figure size 1440x360 with 3 Axes>"
            ]
          },
          "metadata": {
            "needs_background": "light"
          }
        }
      ]
    },
    {
      "cell_type": "markdown",
      "metadata": {
        "id": "dYidITfCO5GT"
      },
      "source": [
        "**Assumption 2: residuals ( ${e_i} = Y_i-\\hat{Y}_i$ ) should be normally distributed with zero mean**"
      ]
    },
    {
      "cell_type": "code",
      "metadata": {
        "colab": {
          "base_uri": "https://localhost:8080/",
          "height": 636
        },
        "id": "nk5_v5WPO5GT",
        "outputId": "6d17a7c2-bf50-44d7-ac3a-50c2dcbf2e65"
      },
      "source": [
        "df_train2['predict']=y_pred_train\n",
        "df_train2['resid']=y_train-df_train2.predict  # \"residuals\"\n",
        "with sns.axes_style('white'):\n",
        "    plot=df_train2.plot(kind='scatter',\n",
        "                  x='predict',y='resid',alpha=0.2,figsize=(10,6))\n",
        "\n",
        "plt.title(\"Assumption 2 Residuals , Scatter plots for predict and resid\")"
      ],
      "execution_count": null,
      "outputs": [
        {
          "output_type": "stream",
          "name": "stderr",
          "text": [
            "/usr/local/lib/python3.7/dist-packages/ipykernel_launcher.py:1: SettingWithCopyWarning: \n",
            "A value is trying to be set on a copy of a slice from a DataFrame.\n",
            "Try using .loc[row_indexer,col_indexer] = value instead\n",
            "\n",
            "See the caveats in the documentation: https://pandas.pydata.org/pandas-docs/stable/user_guide/indexing.html#returning-a-view-versus-a-copy\n",
            "  \"\"\"Entry point for launching an IPython kernel.\n",
            "/usr/local/lib/python3.7/dist-packages/ipykernel_launcher.py:2: SettingWithCopyWarning: \n",
            "A value is trying to be set on a copy of a slice from a DataFrame.\n",
            "Try using .loc[row_indexer,col_indexer] = value instead\n",
            "\n",
            "See the caveats in the documentation: https://pandas.pydata.org/pandas-docs/stable/user_guide/indexing.html#returning-a-view-versus-a-copy\n",
            "  \n"
          ]
        },
        {
          "output_type": "execute_result",
          "data": {
            "text/plain": [
              "Text(0.5, 1.0, 'Assumption 2 Residuals , Scatter plots for predict and resid')"
            ]
          },
          "metadata": {},
          "execution_count": 498
        },
        {
          "output_type": "display_data",
          "data": {
            "image/png": "[encoded data removed]",
            "text/plain": [
              "<Figure size 720x432 with 1 Axes>"
            ]
          },
          "metadata": {}
        }
      ]
    },
    {
      "cell_type": "code",
      "metadata": {
        "colab": {
          "base_uri": "https://localhost:8080/",
          "height": 281
        },
        "id": "I5dKot9pO5GT",
        "outputId": "04a73eff-fe8f-40b1-d684-b4ab119898a6"
      },
      "source": [
        "y_train.hist(bins=35)\n",
        "plt.title('Histogram of Dependent Variable (Price Counts)');"
      ],
      "execution_count": null,
      "outputs": [
        {
          "output_type": "display_data",
          "data": {
            "image/png": "[encoded data removed]",
            "text/plain": [
              "<Figure size 432x288 with 1 Axes>"
            ]
          },
          "metadata": {
            "needs_background": "light"
          }
        }
      ]
    },
    {
      "cell_type": "code",
      "metadata": {
        "colab": {
          "base_uri": "https://localhost:8080/",
          "height": 295
        },
        "id": "QGskaf8zO5GU",
        "outputId": "4c2e1f79-2daf-4a4c-80b4-46a814457e84"
      },
      "source": [
        "stats.probplot(df_train2['resid'], dist=\"norm\", plot=plt)\n",
        "plt.title(\"Normal Q-Q plot\")\n",
        "plt.show()"
      ],
      "execution_count": null,
      "outputs": [
        {
          "output_type": "display_data",
          "data": {
            "image/png": "[encoded data removed]",
            "text/plain": [
              "<Figure size 432x288 with 1 Axes>"
            ]
          },
          "metadata": {
            "needs_background": "light"
          }
        }
      ]
    },
    {
      "cell_type": "code",
      "metadata": {
        "colab": {
          "base_uri": "https://localhost:8080/",
          "height": 314
        },
        "id": "FICXGaaeO5GU",
        "outputId": "99c73eab-dd5c-4ba2-fa27-c2a398e8c684"
      },
      "source": [
        "ts = df_train2[['MILES_DRIVEN','resid']].set_index('MILES_DRIVEN')\n",
        "ts.plot(style=\".\");\n",
        "plt.title(\"Plot for MILES_DRIVEN and resid\")"
      ],
      "execution_count": null,
      "outputs": [
        {
          "output_type": "execute_result",
          "data": {
            "text/plain": [
              "Text(0.5, 1.0, 'Plot for MILES_DRIVEN and resid')"
            ]
          },
          "metadata": {},
          "execution_count": 501
        },
        {
          "output_type": "display_data",
          "data": {
            "image/png": "[encoded data removed]",
            "text/plain": [
              "<Figure size 432x288 with 1 Axes>"
            ]
          },
          "metadata": {
            "needs_background": "light"
          }
        }
      ]
    },
    {
      "cell_type": "markdown",
      "metadata": {
        "id": "5W05U2qkiT5V"
      },
      "source": [
        "**Assumption 3: error terms must have constant variance**"
      ]
    },
    {
      "cell_type": "code",
      "metadata": {
        "colab": {
          "base_uri": "https://localhost:8080/",
          "height": 596
        },
        "id": "3yY9bpR6i6Ky",
        "outputId": "c808e937-9d69-4daa-9947-fe061fd39731"
      },
      "source": [
        "model = sm.OLS(y,X) # \"from stats package\"\n",
        "fit = model.fit()\n",
        "fit.summary()"
      ],
      "execution_count": null,
      "outputs": [
        {
          "output_type": "execute_result",
          "data": {
            "text/html": [
              "<table class=\"simpletable\">\n",
              "<caption>OLS Regression Results</caption>\n",
              "<tr>\n",
              "  <th>Dep. Variable:</th>          <td>PRICE</td>      <th>  R-squared (uncentered):</th>      <td>   0.960</td> \n",
              "</tr>\n",
              "<tr>\n",
              "  <th>Model:</th>                   <td>OLS</td>       <th>  Adj. R-squared (uncentered):</th> <td>   0.960</td> \n",
              "</tr>\n",
              "<tr>\n",
              "  <th>Method:</th>             <td>Least Squares</td>  <th>  F-statistic:       </th>          <td>   1183.</td> \n",
              "</tr>\n",
              "<tr>\n",
              "  <th>Date:</th>             <td>Sat, 25 Sep 2021</td> <th>  Prob (F-statistic):</th>          <td>1.19e-268</td>\n",
              "</tr>\n",
              "<tr>\n",
              "  <th>Time:</th>                 <td>19:15:55</td>     <th>  Log-Likelihood:    </th>          <td> -3982.0</td> \n",
              "</tr>\n",
              "<tr>\n",
              "  <th>No. Observations:</th>      <td>   399</td>      <th>  AIC:               </th>          <td>   7980.</td> \n",
              "</tr>\n",
              "<tr>\n",
              "  <th>Df Residuals:</th>          <td>   391</td>      <th>  BIC:               </th>          <td>   8012.</td> \n",
              "</tr>\n",
              "<tr>\n",
              "  <th>Df Model:</th>              <td>     8</td>      <th>                     </th>              <td> </td>    \n",
              "</tr>\n",
              "<tr>\n",
              "  <th>Covariance Type:</th>      <td>nonrobust</td>    <th>                     </th>              <td> </td>    \n",
              "</tr>\n",
              "</table>\n",
              "<table class=\"simpletable\">\n",
              "<tr>\n",
              "               <td></td>                  <th>coef</th>     <th>std err</th>      <th>t</th>      <th>P>|t|</th>  <th>[0.025</th>    <th>0.975]</th>  \n",
              "</tr>\n",
              "<tr>\n",
              "  <th>MODEL</th>                       <td>   12.8448</td> <td>    1.060</td> <td>   12.112</td> <td> 0.000</td> <td>   10.760</td> <td>   14.930</td>\n",
              "</tr>\n",
              "<tr>\n",
              "  <th>MILES_DRIVEN</th>                <td>   -0.1606</td> <td>    0.007</td> <td>  -22.590</td> <td> 0.000</td> <td>   -0.175</td> <td>   -0.147</td>\n",
              "</tr>\n",
              "<tr>\n",
              "  <th>RATE</th>                        <td>  879.1334</td> <td>  446.979</td> <td>    1.967</td> <td> 0.050</td> <td>    0.351</td> <td> 1757.916</td>\n",
              "</tr>\n",
              "<tr>\n",
              "  <th>NO_OF_REVIEWS</th>               <td>    0.1240</td> <td>    0.188</td> <td>    0.658</td> <td> 0.511</td> <td>   -0.246</td> <td>    0.494</td>\n",
              "</tr>\n",
              "<tr>\n",
              "  <th>CAR_NAME_Honda Civic LX</th>     <td>-3414.2264</td> <td> 1365.965</td> <td>   -2.499</td> <td> 0.013</td> <td>-6099.782</td> <td> -728.671</td>\n",
              "</tr>\n",
              "<tr>\n",
              "  <th>CAR_NAME_Honda Odyssey EX-L</th> <td> 8926.5538</td> <td> 1324.100</td> <td>    6.742</td> <td> 0.000</td> <td> 6323.307</td> <td> 1.15e+04</td>\n",
              "</tr>\n",
              "<tr>\n",
              "  <th>CAR_NAME_Honda Pilot EX-L</th>   <td> 9093.4579</td> <td> 1343.149</td> <td>    6.770</td> <td> 0.000</td> <td> 6452.759</td> <td> 1.17e+04</td>\n",
              "</tr>\n",
              "<tr>\n",
              "  <th>CAR_NAME_Other</th>              <td> 2209.9354</td> <td> 1009.577</td> <td>    2.189</td> <td> 0.029</td> <td>  225.057</td> <td> 4194.814</td>\n",
              "</tr>\n",
              "</table>\n",
              "<table class=\"simpletable\">\n",
              "<tr>\n",
              "  <th>Omnibus:</th>       <td>26.867</td> <th>  Durbin-Watson:     </th> <td>   2.075</td>\n",
              "</tr>\n",
              "<tr>\n",
              "  <th>Prob(Omnibus):</th> <td> 0.000</td> <th>  Jarque-Bera (JB):  </th> <td>  30.355</td>\n",
              "</tr>\n",
              "<tr>\n",
              "  <th>Skew:</th>          <td> 0.645</td> <th>  Prob(JB):          </th> <td>2.56e-07</td>\n",
              "</tr>\n",
              "<tr>\n",
              "  <th>Kurtosis:</th>      <td> 3.405</td> <th>  Cond. No.          </th> <td>4.85e+05</td>\n",
              "</tr>\n",
              "</table><br/><br/>Warnings:<br/>[1] Standard Errors assume that the covariance matrix of the errors is correctly specified.<br/>[2] The condition number is large, 4.85e+05. This might indicate that there are<br/>strong multicollinearity or other numerical problems."
            ],
            "text/plain": [
              "<class 'statsmodels.iolib.summary.Summary'>\n",
              "\"\"\"\n",
              "                                 OLS Regression Results                                \n",
              "=======================================================================================\n",
              "Dep. Variable:                  PRICE   R-squared (uncentered):                   0.960\n",
              "Model:                            OLS   Adj. R-squared (uncentered):              0.960\n",
              "Method:                 Least Squares   F-statistic:                              1183.\n",
              "Date:                Sat, 25 Sep 2021   Prob (F-statistic):                   1.19e-268\n",
              "Time:                        19:15:55   Log-Likelihood:                         -3982.0\n",
              "No. Observations:                 399   AIC:                                      7980.\n",
              "Df Residuals:                     391   BIC:                                      8012.\n",
              "Df Model:                           8                                                  \n",
              "Covariance Type:            nonrobust                                                  \n",
              "===============================================================================================\n",
              "                                  coef    std err          t      P>|t|      [0.025      0.975]\n",
              "-----------------------------------------------------------------------------------------------\n",
              "MODEL                          12.8448      1.060     12.112      0.000      10.760      14.930\n",
              "MILES_DRIVEN                   -0.1606      0.007    -22.590      0.000      -0.175      -0.147\n",
              "RATE                          879.1334    446.979      1.967      0.050       0.351    1757.916\n",
              "NO_OF_REVIEWS                   0.1240      0.188      0.658      0.511      -0.246       0.494\n",
              "CAR_NAME_Honda Civic LX     -3414.2264   1365.965     -2.499      0.013   -6099.782    -728.671\n",
              "CAR_NAME_Honda Odyssey EX-L  8926.5538   1324.100      6.742      0.000    6323.307    1.15e+04\n",
              "CAR_NAME_Honda Pilot EX-L    9093.4579   1343.149      6.770      0.000    6452.759    1.17e+04\n",
              "CAR_NAME_Other               2209.9354   1009.577      2.189      0.029     225.057    4194.814\n",
              "==============================================================================\n",
              "Omnibus:                       26.867   Durbin-Watson:                   2.075\n",
              "Prob(Omnibus):                  0.000   Jarque-Bera (JB):               30.355\n",
              "Skew:                           0.645   Prob(JB):                     2.56e-07\n",
              "Kurtosis:                       3.405   Cond. No.                     4.85e+05\n",
              "==============================================================================\n",
              "\n",
              "Warnings:\n",
              "[1] Standard Errors assume that the covariance matrix of the errors is correctly specified.\n",
              "[2] The condition number is large, 4.85e+05. This might indicate that there are\n",
              "strong multicollinearity or other numerical problems.\n",
              "\"\"\""
            ]
          },
          "metadata": {},
          "execution_count": 502
        }
      ]
    },
    {
      "cell_type": "code",
      "metadata": {
        "colab": {
          "base_uri": "https://localhost:8080/",
          "height": 636
        },
        "id": "Y5MRz0pKi-gx",
        "outputId": "38764566-422b-434b-e949-05d6a8145980"
      },
      "source": [
        "# create residual plot\n",
        "df_train2['predict']=fit.predict(X) # \"we added the predication to the data frame\"\n",
        "df_train2['resid']= y -df_train2.predict # \"we added the residuals to the data frame\"\n",
        "with sns.axes_style('white'):\n",
        "    plot = df_train2.plot(\n",
        "        kind='scatter', x='predict', y='resid', alpha=0.5, figsize=(10,6))\n",
        "    \n",
        "plt.title(\"Scatter plot for residual \")"
      ],
      "execution_count": null,
      "outputs": [
        {
          "output_type": "stream",
          "name": "stderr",
          "text": [
            "/usr/local/lib/python3.7/dist-packages/ipykernel_launcher.py:2: SettingWithCopyWarning: \n",
            "A value is trying to be set on a copy of a slice from a DataFrame.\n",
            "Try using .loc[row_indexer,col_indexer] = value instead\n",
            "\n",
            "See the caveats in the documentation: https://pandas.pydata.org/pandas-docs/stable/user_guide/indexing.html#returning-a-view-versus-a-copy\n",
            "  \n",
            "/usr/local/lib/python3.7/dist-packages/ipykernel_launcher.py:3: SettingWithCopyWarning: \n",
            "A value is trying to be set on a copy of a slice from a DataFrame.\n",
            "Try using .loc[row_indexer,col_indexer] = value instead\n",
            "\n",
            "See the caveats in the documentation: https://pandas.pydata.org/pandas-docs/stable/user_guide/indexing.html#returning-a-view-versus-a-copy\n",
            "  This is separate from the ipykernel package so we can avoid doing imports until\n"
          ]
        },
        {
          "output_type": "execute_result",
          "data": {
            "text/plain": [
              "Text(0.5, 1.0, 'Scatter plot for residual ')"
            ]
          },
          "metadata": {},
          "execution_count": 503
        },
        {
          "output_type": "display_data",
          "data": {
            "image/png": "[encoded data removed]",
            "text/plain": [
              "<Figure size 720x432 with 1 Axes>"
            ]
          },
          "metadata": {}
        }
      ]
    },
    {
      "cell_type": "code",
      "metadata": {
        "colab": {
          "base_uri": "https://localhost:8080/",
          "height": 299
        },
        "id": "L-aUsAw8jrVr",
        "outputId": "40d1898a-64cd-4719-ce40-a1ae8e659668"
      },
      "source": [
        "df_train2.PRICE.hist();\n",
        "plt.title(\"Histogram plot for price\")"
      ],
      "execution_count": null,
      "outputs": [
        {
          "output_type": "execute_result",
          "data": {
            "text/plain": [
              "Text(0.5, 1.0, 'Histogram plot for price')"
            ]
          },
          "metadata": {},
          "execution_count": 504
        },
        {
          "output_type": "display_data",
          "data": {
            "image/png": "[encoded data removed]",
            "text/plain": [
              "<Figure size 432x288 with 1 Axes>"
            ]
          },
          "metadata": {
            "needs_background": "light"
          }
        }
      ]
    },
    {
      "cell_type": "code",
      "metadata": {
        "colab": {
          "base_uri": "https://localhost:8080/",
          "height": 334
        },
        "id": "MMc76vCqkUdO",
        "outputId": "08c35573-faaa-4e44-d0e1-1d03b59117ca"
      },
      "source": [
        "np.log(df_train2.PRICE).hist();\n",
        "plt.title(\"Histogram plot for log price\")"
      ],
      "execution_count": null,
      "outputs": [
        {
          "output_type": "stream",
          "name": "stderr",
          "text": [
            "/usr/local/lib/python3.7/dist-packages/pandas/core/series.py:726: RuntimeWarning: invalid value encountered in log\n",
            "  result = getattr(ufunc, method)(*inputs, **kwargs)\n"
          ]
        },
        {
          "output_type": "execute_result",
          "data": {
            "text/plain": [
              "Text(0.5, 1.0, 'Histogram plot for log price')"
            ]
          },
          "metadata": {},
          "execution_count": 505
        },
        {
          "output_type": "display_data",
          "data": {
            "image/png": "[encoded data removed]",
            "text/plain": [
              "<Figure size 432x288 with 1 Axes>"
            ]
          },
          "metadata": {
            "needs_background": "light"
          }
        }
      ]
    },
    {
      "cell_type": "code",
      "metadata": {
        "colab": {
          "base_uri": "https://localhost:8080/",
          "height": 408
        },
        "id": "6MpCmmnEQzB-",
        "outputId": "ff58bbaa-1dc2-4f50-94d6-923016cd95db"
      },
      "source": [
        "fig, ax = plt.subplots(figsize=(8, 6))\n",
        "\n",
        "plt.scatter(df_train2.MILES_DRIVEN,y_train , label =\"y_train\")\n",
        "plt.scatter(df_train2.MILES_DRIVEN,df_train2.predict, label =\"y_train for predict\");\n",
        "legend = ax.legend(loc=\"best\")\n",
        "plt.title (\"Regn plt\")"
      ],
      "execution_count": null,
      "outputs": [
        {
          "output_type": "execute_result",
          "data": {
            "text/plain": [
              "Text(0.5, 1.0, 'Regn plt')"
            ]
          },
          "metadata": {},
          "execution_count": 506
        },
        {
          "output_type": "display_data",
          "data": {
            "image/png": "[encoded data removed]",
            "text/plain": [
              "<Figure size 576x432 with 1 Axes>"
            ]
          },
          "metadata": {
            "needs_background": "light"
          }
        }
      ]
    },
    {
      "cell_type": "code",
      "metadata": {
        "id": "VK25YZZwS3FS"
      },
      "source": [
        ""
      ],
      "execution_count": null,
      "outputs": []
    },
    {
      "cell_type": "code",
      "metadata": {
        "id": "BCcUHUBRSeP6"
      },
      "source": [
        "#lamb=stats.boxcox_normmax(df_train2.PRICE, brack=(-1.9, 1.9)) # \"Compute optimal Box-Cox transform parameter for input data, brack for intilization\"\n",
        "#print(\"Lambda:\", lamb)\n",
        "#y_t=(np.power(df_train2.PRICE,-0.2282)-1)/-0.2282 # \"the value of lambda is choosen from the box cox normality plot\"\n",
        "\n",
        "#plt.hist(y_t);"
      ],
      "execution_count": null,
      "outputs": []
    },
    {
      "cell_type": "markdown",
      "metadata": {
        "id": "5rof7kWHS5eq"
      },
      "source": [
        "**Assumption 4: errors are uncorrelated across observations**\n",
        "\n"
      ]
    },
    {
      "cell_type": "markdown",
      "metadata": {
        "id": "qgp6GvLZztyr"
      },
      "source": [
        "No autocorrelation of residuals\n"
      ]
    },
    {
      "cell_type": "code",
      "metadata": {
        "colab": {
          "base_uri": "https://localhost:8080/",
          "height": 280
        },
        "id": "5FMTAZrZS4LJ",
        "outputId": "f56ad2fe-b889-40f5-b968-c77cc455b0c4"
      },
      "source": [
        "ts = df_train2[['MILES_DRIVEN','resid']].set_index('MILES_DRIVEN')\n",
        "ts.plot(style=\".\");"
      ],
      "execution_count": null,
      "outputs": [
        {
          "output_type": "display_data",
          "data": {
            "image/png": "[encoded data removed]",
            "text/plain": [
              "<Figure size 432x288 with 1 Axes>"
            ]
          },
          "metadata": {
            "needs_background": "light"
          }
        }
      ]
    },
    {
      "cell_type": "code",
      "metadata": {
        "colab": {
          "base_uri": "https://localhost:8080/",
          "height": 442
        },
        "id": "k-VRNUVeromz",
        "outputId": "6137832a-fe99-4029-f195-2621f57587af"
      },
      "source": [
        "residuals = y_train.values-y_pred_train\n",
        "plt.figure(figsize=(10,5))\n",
        "p = sns.lineplot(y_pred_train,residuals,marker='o',color='blue')\n",
        "plt.xlabel('y_pred/predicted values')\n",
        "plt.ylabel('Residuals')\n",
        "plt.ylim(-5,5)\n",
        "plt.xlim(0,8)\n",
        "p = sns.lineplot([0,8],[0,0],color='red')\n",
        "p = plt.title('Residuals vs fitted values plot for autocorrelation check')"
      ],
      "execution_count": null,
      "outputs": [
        {
          "output_type": "stream",
          "name": "stderr",
          "text": [
            "/usr/local/lib/python3.7/dist-packages/seaborn/_decorators.py:43: FutureWarning: Pass the following variables as keyword args: x, y. From version 0.12, the only valid positional argument will be `data`, and passing other arguments without an explicit keyword will result in an error or misinterpretation.\n",
            "  FutureWarning\n",
            "/usr/local/lib/python3.7/dist-packages/seaborn/_decorators.py:43: FutureWarning: Pass the following variables as keyword args: x, y. From version 0.12, the only valid positional argument will be `data`, and passing other arguments without an explicit keyword will result in an error or misinterpretation.\n",
            "  FutureWarning\n"
          ]
        },
        {
          "output_type": "display_data",
          "data": {
            "image/png": "[encoded data removed]",
            "text/plain": [
              "<Figure size 720x360 with 1 Axes>"
            ]
          },
          "metadata": {
            "needs_background": "light"
          }
        }
      ]
    },
    {
      "cell_type": "markdown",
      "metadata": {
        "id": "xTvWrKD_z1Xs"
      },
      "source": [
        "Checking for autocorrelation To ensure the absence of autocorrelation we use Ljungbox test:\n",
        "\n",
        "Null Hypothesis: Autocorrelation is absent.\n",
        "\n",
        "Alternative Hypothesis: Autocorrelation is present."
      ]
    },
    {
      "cell_type": "code",
      "metadata": {
        "colab": {
          "base_uri": "https://localhost:8080/"
        },
        "id": "jmfsRhGJz0j4",
        "outputId": "d9318cfa-ffc4-458e-be5b-cf7e3c30e7e0"
      },
      "source": [
        "min(diag.acorr_ljungbox(residuals , lags = 40)[1])"
      ],
      "execution_count": null,
      "outputs": [
        {
          "output_type": "execute_result",
          "data": {
            "text/plain": [
              "0.13856246468211483"
            ]
          },
          "metadata": {},
          "execution_count": 510
        }
      ]
    },
    {
      "cell_type": "markdown",
      "metadata": {
        "id": "ydgEzuRr0F53"
      },
      "source": [
        "Since p value is less than 0.05 we reject the null hypothesis that error terms are not autocorrelated"
      ]
    },
    {
      "cell_type": "code",
      "metadata": {
        "colab": {
          "base_uri": "https://localhost:8080/",
          "height": 281
        },
        "id": "4oLg679h0HO_",
        "outputId": "6afeaebd-d2c4-4f76-8024-b1cc46e34042"
      },
      "source": [
        "sm.graphics.tsa.plot_acf(residuals, lags=40)\n",
        "plt.show()"
      ],
      "execution_count": null,
      "outputs": [
        {
          "output_type": "display_data",
          "data": {
            "image/png": "[encoded data removed]",
            "text/plain": [
              "<Figure size 432x288 with 1 Axes>"
            ]
          },
          "metadata": {
            "needs_background": "light"
          }
        }
      ]
    },
    {
      "cell_type": "code",
      "metadata": {
        "colab": {
          "base_uri": "https://localhost:8080/",
          "height": 281
        },
        "id": "niboXXfU0Nje",
        "outputId": "6d57b181-8a29-4e1a-e26e-59f19fa971fb"
      },
      "source": [
        "sm.graphics.tsa.plot_pacf(residuals, lags=40)\n",
        "plt.show()"
      ],
      "execution_count": null,
      "outputs": [
        {
          "output_type": "display_data",
          "data": {
            "image/png": "[encoded data removed]",
            "text/plain": [
              "<Figure size 432x288 with 1 Axes>"
            ]
          },
          "metadata": {
            "needs_background": "light"
          }
        }
      ]
    },
    {
      "cell_type": "markdown",
      "metadata": {
        "id": "t3GwCP5w0dco"
      },
      "source": [
        "The results show signs of autocorrelation since there are spikes outside the blue confidence interval region. This could be a factor of seasonality in the data."
      ]
    },
    {
      "cell_type": "markdown",
      "metadata": {
        "id": "QcJMhKe-Tsyf"
      },
      "source": [
        "**Assumption 5: no independent variable is a perfect linear function of any other independent variable (no perfect multi-collinearity)**"
      ]
    },
    {
      "cell_type": "code",
      "metadata": {
        "colab": {
          "base_uri": "https://localhost:8080/",
          "height": 799
        },
        "id": "apt-3czbTwk-",
        "outputId": "50b78c2d-36a3-47b2-c93b-20491c101207"
      },
      "source": [
        "plt.figure(figsize=(12,12))  \n",
        "p=sns.heatmap(df_train.corr(), annot=True,cmap='YlGnBu',square=True) \n",
        "plt.savefig('ass5.png') # To save the plot.\n",
        "files.download('ass5.png') # To download the plot to your computer."
      ],
      "execution_count": null,
      "outputs": [
        {
          "output_type": "display_data",
          "data": {
            "application/javascript": [
              "\n",
              "    async function download(id, filename, size) {\n",
              "      if (!google.colab.kernel.accessAllowed) {\n",
              "        return;\n",
              "      }\n",
              "      const div = document.createElement('div');\n",
              "      const label = document.createElement('label');\n",
              "      label.textContent = `Downloading \"${filename}\": `;\n",
              "      div.appendChild(label);\n",
              "      const progress = document.createElement('progress');\n",
              "      progress.max = size;\n",
              "      div.appendChild(progress);\n",
              "      document.body.appendChild(div);\n",
              "\n",
              "      const buffers = [];\n",
              "      let downloaded = 0;\n",
              "\n",
              "      const channel = await google.colab.kernel.comms.open(id);\n",
              "      // Send a message to notify the kernel that we're ready.\n",
              "      channel.send({})\n",
              "\n",
              "      for await (const message of channel.messages) {\n",
              "        // Send a message to notify the kernel that we're ready.\n",
              "        channel.send({})\n",
              "        if (message.buffers) {\n",
              "          for (const buffer of message.buffers) {\n",
              "            buffers.push(buffer);\n",
              "            downloaded += buffer.byteLength;\n",
              "            progress.value = downloaded;\n",
              "          }\n",
              "        }\n",
              "      }\n",
              "      const blob = new Blob(buffers, {type: 'application/binary'});\n",
              "      const a = document.createElement('a');\n",
              "      a.href = window.URL.createObjectURL(blob);\n",
              "      a.download = filename;\n",
              "      div.appendChild(a);\n",
              "      a.click();\n",
              "      div.remove();\n",
              "    }\n",
              "  "
            ],
            "text/plain": [
              "<IPython.core.display.Javascript object>"
            ]
          },
          "metadata": {}
        },
        {
          "output_type": "display_data",
          "data": {
            "application/javascript": [
              "download(\"download_53d9475e-8f6b-4a23-991b-d61dd00558b9\", \"ass5.png\", 69383)"
            ],
            "text/plain": [
              "<IPython.core.display.Javascript object>"
            ]
          },
          "metadata": {}
        },
        {
          "output_type": "display_data",
          "data": {
            "image/png": "[encoded data removed]",
            "text/plain": [
              "<Figure size 864x864 with 2 Axes>"
            ]
          },
          "metadata": {
            "needs_background": "light"
          }
        }
      ]
    },
    {
      "cell_type": "markdown",
      "metadata": {
        "id": "zClQu_AswgiR"
      },
      "source": [
        "To check the dependency -> Draw the heatmap and ensure the all feature dependent to each other."
      ]
    }
  ]
}